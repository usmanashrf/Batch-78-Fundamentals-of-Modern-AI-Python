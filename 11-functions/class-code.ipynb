{
  "nbformat": 4,
  "nbformat_minor": 0,
  "metadata": {
    "colab": {
      "provenance": []
    },
    "kernelspec": {
      "name": "python3",
      "display_name": "Python 3"
    },
    "language_info": {
      "name": "python"
    }
  },
  "cells": [
    {
      "cell_type": "code",
      "execution_count": 8,
      "metadata": {
        "colab": {
          "base_uri": "https://localhost:8080/"
        },
        "id": "oSFCmv3gw6Xl",
        "outputId": "496e8b60-0614-412d-a5fe-51340661f19b"
      },
      "outputs": [
        {
          "output_type": "stream",
          "name": "stdout",
          "text": [
            "====================================\n",
            "          PIZZA PARADISE\n",
            "====================================\n",
            "Order #: 1\n",
            "Name:  Pepperoni\n",
            "Price:  350\n",
            "Delivery: 50 Rs\n",
            "Tip (10%):  35.0\n",
            "Total:  435.0\n",
            "====================================\n",
            "          PIZZA PARADISE\n",
            "====================================\n",
            "Order #: 2\n",
            "Name:  Veggie Supereme\n",
            "Price:  300\n",
            "Delivery: 50 Rs\n",
            "Tip (10%):  30.0\n",
            "Total:  380.0\n",
            "====================================\n",
            "          PIZZA PARADISE\n",
            "====================================\n",
            "Order #: 3\n",
            "Name:  Margherita\n",
            "Price:  250\n",
            "Delivery: 50 Rs\n",
            "Tip (10%):  25.0\n",
            "Total:  325.0\n"
          ]
        }
      ],
      "source": [
        "print(\"====================================\")\n",
        "print(\"          PIZZA PARADISE\")\n",
        "print(\"====================================\")\n",
        "print(\"Order #: 1\")\n",
        "print(\"Name:  Pepperoni\")\n",
        "print(\"Price:  350\")\n",
        "print(\"Delivery: 50 Rs\")\n",
        "print(\"Tip (10%):  35.0\")\n",
        "print(\"Total:  435.0\")\n",
        "print(\"====================================\")\n",
        "print(\"          PIZZA PARADISE\")\n",
        "print(\"====================================\")\n",
        "print(\"Order #: 2\")\n",
        "print(\"Name:  Veggie Supereme\")\n",
        "print(\"Price:  300\")\n",
        "print(\"Delivery: 50 Rs\")\n",
        "print(\"Tip (10%):  30.0\")\n",
        "print(\"Total:  380.0\")\n",
        "print(\"====================================\")\n",
        "print(\"          PIZZA PARADISE\")\n",
        "print(\"====================================\")\n",
        "print(\"Order #: 3\")\n",
        "print(\"Name:  Margherita\")\n",
        "print(\"Price:  250\")\n",
        "print(\"Delivery: 50 Rs\")\n",
        "print(\"Tip (10%):  25.0\")\n",
        "print(\"Total:  325.0\")\n"
      ]
    },
    {
      "cell_type": "code",
      "source": [
        "orders = [\n",
        "    {\"order_no\": 1, \"name\": \"Pepperoni\", \"price\": 350},\n",
        "    {\"order_no\": 2, \"name\": \"Veggie Supereme\", \"price\": 300},\n",
        "    {\"order_no\": 3, \"name\": \"Margherita\", \"price\": 250},\n",
        "]\n",
        "\n",
        "for order in orders:\n",
        "    delivery = 50\n",
        "    tip = order[\"price\"] * 0.10\n",
        "    total = order[\"price\"] + delivery + tip\n",
        "\n",
        "    print(\"====================================\")\n",
        "    print(\"          PIZZA PARADISE\")\n",
        "    print(\"====================================\")\n",
        "    print(f\"Order #: {order['order_no']}\")\n",
        "    print(f\"Name:  {order['name']}\")\n",
        "    print(f\"Price:  {order['price']}\")\n",
        "    print(f\"Delivery: {delivery} Rs\")\n",
        "    print(f\"Tip (10%):  {tip}\")\n",
        "    print(f\"Total:  {total}\")\n"
      ],
      "metadata": {
        "colab": {
          "base_uri": "https://localhost:8080/"
        },
        "id": "Y1UjIChZ2Rfc",
        "outputId": "1d51f3d9-bb35-4da8-8d73-45a9212d8b30"
      },
      "execution_count": 9,
      "outputs": [
        {
          "output_type": "stream",
          "name": "stdout",
          "text": [
            "====================================\n",
            "          PIZZA PARADISE\n",
            "====================================\n",
            "Order #: 1\n",
            "Name:  Pepperoni\n",
            "Price:  350\n",
            "Delivery: 50 Rs\n",
            "Tip (10%):  35.0\n",
            "Total:  435.0\n",
            "====================================\n",
            "          PIZZA PARADISE\n",
            "====================================\n",
            "Order #: 2\n",
            "Name:  Veggie Supereme\n",
            "Price:  300\n",
            "Delivery: 50 Rs\n",
            "Tip (10%):  30.0\n",
            "Total:  380.0\n",
            "====================================\n",
            "          PIZZA PARADISE\n",
            "====================================\n",
            "Order #: 3\n",
            "Name:  Margherita\n",
            "Price:  250\n",
            "Delivery: 50 Rs\n",
            "Tip (10%):  25.0\n",
            "Total:  325.0\n"
          ]
        }
      ]
    },
    {
      "cell_type": "code",
      "source": [
        "def print_order_summary(order_num, order_name, order_price, delivery_fee=50, tip_percent=10):\n",
        "    tip = order_price * (tip_percent / 100)\n",
        "    total = order_price + delivery_fee + tip\n",
        "\n",
        "    print(\"====================================\")\n",
        "    print(\"          PIZZA PARADISE\")\n",
        "    print(\"====================================\")\n",
        "    print(f\"Order #: {order_num}\")\n",
        "    print(f\"Name:  {order_name}\")\n",
        "    print(f\"Price:  {order_price}\")\n",
        "    print(f\"Delivery: {delivery_fee} Rs\")\n",
        "    print(f\"Tip ({tip_percent}%):  {tip:.1f}\")\n",
        "    print(f\"Total:  {total:.1f}\")\n",
        "\n",
        "# Orders data\n",
        "# orders = [\n",
        "#     {\"order_no\": 1, \"name\": \"Pepperoni\", \"price\": 350},\n",
        "#     {\"order_no\": 2, \"name\": \"Veggie Supreme\", \"price\": 300},\n",
        "#     {\"order_no\": 3, \"name\": \"Margherita\", \"price\": 250},\n",
        "# ]\n",
        "\n",
        "# Function call\n",
        "print_order_summary(1,\"Pepperoni\",300, delivery_fee=60, tip_percent=12)\n",
        "\n"
      ],
      "metadata": {
        "colab": {
          "base_uri": "https://localhost:8080/"
        },
        "id": "tBaroGda2cR7",
        "outputId": "da1501bb-bb04-495b-c7a8-483840f350f8"
      },
      "execution_count": 28,
      "outputs": [
        {
          "output_type": "stream",
          "name": "stdout",
          "text": [
            "====================================\n",
            "          PIZZA PARADISE\n",
            "====================================\n",
            "Order #: 1\n",
            "Name:  Pepperoni\n",
            "Price:  300\n",
            "Delivery: 60 Rs\n",
            "Tip (12%):  36.0\n",
            "Total:  396.0\n"
          ]
        }
      ]
    },
    {
      "cell_type": "code",
      "source": [
        "def greet(name):\n",
        "    print(f\"Hello {name}\")"
      ],
      "metadata": {
        "id": "CU-1Dz-T6oOX"
      },
      "execution_count": 17,
      "outputs": []
    },
    {
      "cell_type": "code",
      "source": [
        "result = greet(\"Rehan\")\n",
        "#            None"
      ],
      "metadata": {
        "colab": {
          "base_uri": "https://localhost:8080/"
        },
        "id": "BziG5sTS761W",
        "outputId": "f05f98d4-4258-46ed-d573-831f6d92f1b4"
      },
      "execution_count": 18,
      "outputs": [
        {
          "output_type": "stream",
          "name": "stdout",
          "text": [
            "Hello Rehan\n"
          ]
        }
      ]
    },
    {
      "cell_type": "code",
      "source": [
        "print(result)"
      ],
      "metadata": {
        "colab": {
          "base_uri": "https://localhost:8080/"
        },
        "id": "xuCNycBC-CGr",
        "outputId": "5c0a810d-f8d2-4224-d520-5281aedb653d"
      },
      "execution_count": 19,
      "outputs": [
        {
          "output_type": "stream",
          "name": "stdout",
          "text": [
            "None\n"
          ]
        }
      ]
    },
    {
      "cell_type": "code",
      "source": [
        "greet(\"Musa\")"
      ],
      "metadata": {
        "colab": {
          "base_uri": "https://localhost:8080/"
        },
        "id": "TSN3LYRP8LYz",
        "outputId": "c36518e3-0982-46c7-a7ef-ee17c34730b4"
      },
      "execution_count": 14,
      "outputs": [
        {
          "output_type": "stream",
          "name": "stdout",
          "text": [
            "Hello Musa\n"
          ]
        }
      ]
    },
    {
      "cell_type": "code",
      "source": [
        "print(\"hdfa;dsfdsfj\")"
      ],
      "metadata": {
        "colab": {
          "base_uri": "https://localhost:8080/"
        },
        "id": "UEisC5Vb8eyJ",
        "outputId": "de47e958-3c3c-40e5-d336-36ad03e14752"
      },
      "execution_count": 15,
      "outputs": [
        {
          "output_type": "stream",
          "name": "stdout",
          "text": [
            "hdfa;dsfdsfj\n"
          ]
        }
      ]
    },
    {
      "cell_type": "markdown",
      "source": [
        "1. Non-return function\n",
        "2. Return function\n",
        "3. Parameterless function\n",
        "4. Parameterized function"
      ],
      "metadata": {
        "id": "DqJBuCsm9G0U"
      }
    },
    {
      "cell_type": "code",
      "source": [
        "def greet(name):\n",
        "    # print(f\"Hello {name}\")\n",
        "    # return f\"Hello {name}\"\n",
        "    return 5000"
      ],
      "metadata": {
        "id": "ZonUuuhg-zl-"
      },
      "execution_count": 24,
      "outputs": []
    },
    {
      "cell_type": "code",
      "source": [
        "result = greet(\"Musa\")\n"
      ],
      "metadata": {
        "id": "txC7VLEQ_D2Z"
      },
      "execution_count": 26,
      "outputs": []
    },
    {
      "cell_type": "code",
      "source": [
        "print(result)"
      ],
      "metadata": {
        "colab": {
          "base_uri": "https://localhost:8080/"
        },
        "id": "dvmpd9Xs_LFN",
        "outputId": "d8a7322c-518d-4aba-c8c2-2c0df917ae7f"
      },
      "execution_count": 27,
      "outputs": [
        {
          "output_type": "stream",
          "name": "stdout",
          "text": [
            "5000\n"
          ]
        }
      ]
    },
    {
      "cell_type": "code",
      "source": [
        "def intro(name, gender):\n",
        "    print(f\"Hello {name}!. I am {gender}\")"
      ],
      "metadata": {
        "id": "-odj15tmBilA"
      },
      "execution_count": 29,
      "outputs": []
    },
    {
      "cell_type": "code",
      "source": [
        "intro(\"Samia\", \"Female\")"
      ],
      "metadata": {
        "colab": {
          "base_uri": "https://localhost:8080/"
        },
        "id": "qbVFhydHB3xq",
        "outputId": "d6fb3119-239d-457e-d7fe-5cac0df64875"
      },
      "execution_count": 30,
      "outputs": [
        {
          "output_type": "stream",
          "name": "stdout",
          "text": [
            "Hello Samia!. I am Female\n"
          ]
        }
      ]
    },
    {
      "cell_type": "code",
      "source": [
        "intro(\"Female\", \"Samia\")"
      ],
      "metadata": {
        "colab": {
          "base_uri": "https://localhost:8080/"
        },
        "id": "SYan_oksCC8d",
        "outputId": "60609339-6ec5-47d1-cbc6-f1ea703b2c01"
      },
      "execution_count": 31,
      "outputs": [
        {
          "output_type": "stream",
          "name": "stdout",
          "text": [
            "Hello Female!. I am Samia\n"
          ]
        }
      ]
    },
    {
      "cell_type": "code",
      "source": [
        "intro(gender=\"Female\", name=\"Samia\") #keyword arguments"
      ],
      "metadata": {
        "colab": {
          "base_uri": "https://localhost:8080/"
        },
        "id": "F57OwjYLCUsK",
        "outputId": "62e72b10-631a-4388-cb04-5287b8670d2e"
      },
      "execution_count": 32,
      "outputs": [
        {
          "output_type": "stream",
          "name": "stdout",
          "text": [
            "Hello Samia!. I am Female\n"
          ]
        }
      ]
    },
    {
      "cell_type": "code",
      "source": [
        "# intro(name=\"Samia\")"
      ],
      "metadata": {
        "id": "oJetoPTvCu4x"
      },
      "execution_count": null,
      "outputs": []
    },
    {
      "cell_type": "code",
      "source": [
        "def intro2(name, gender=\"Female\"):\n",
        "    print(f\"Hello {name}!. I am {gender}\")"
      ],
      "metadata": {
        "id": "wfToCVNKC4vN"
      },
      "execution_count": 35,
      "outputs": []
    },
    {
      "cell_type": "code",
      "source": [
        "intro2(name=\"Samia\")"
      ],
      "metadata": {
        "colab": {
          "base_uri": "https://localhost:8080/"
        },
        "id": "EP3Hp4qIC6kr",
        "outputId": "f14fe13a-fa9d-4f7d-b1f3-1dc01f366e57"
      },
      "execution_count": 36,
      "outputs": [
        {
          "output_type": "stream",
          "name": "stdout",
          "text": [
            "Hello Samia!. I am Female\n"
          ]
        }
      ]
    },
    {
      "cell_type": "code",
      "source": [
        "intro2(\"Usman\", \"Male\")"
      ],
      "metadata": {
        "colab": {
          "base_uri": "https://localhost:8080/"
        },
        "id": "C71eIJ1lDL2J",
        "outputId": "ff31bef2-0bbb-4295-e571-3b1798b21401"
      },
      "execution_count": 37,
      "outputs": [
        {
          "output_type": "stream",
          "name": "stdout",
          "text": [
            "Hello Usman!. I am Male\n"
          ]
        }
      ]
    },
    {
      "cell_type": "code",
      "source": [
        "def intro3(name, gender=\"Female\"):\n",
        "    print(f\"Hello {name}!. I am {gender}\")"
      ],
      "metadata": {
        "id": "ryBbgHS0DlDx"
      },
      "execution_count": 40,
      "outputs": []
    },
    {
      "cell_type": "code",
      "source": [
        "intro3(\"Samia\")"
      ],
      "metadata": {
        "colab": {
          "base_uri": "https://localhost:8080/"
        },
        "id": "MK5zGTdQEUMT",
        "outputId": "879291c6-1384-4282-924b-1748fcdb70f6"
      },
      "execution_count": 41,
      "outputs": [
        {
          "output_type": "stream",
          "name": "stdout",
          "text": [
            "Hello Samia!. I am Female\n"
          ]
        }
      ]
    },
    {
      "cell_type": "code",
      "source": [
        "intro3(\"Samia\")"
      ],
      "metadata": {
        "id": "VMBCClBaED9v"
      },
      "execution_count": null,
      "outputs": []
    },
    {
      "cell_type": "code",
      "source": [
        "def add(*args):\n",
        "    total = 0\n",
        "    for num in args:\n",
        "        total += num  # total = total + num\n",
        "    return total\n"
      ],
      "metadata": {
        "id": "iKV0zIbAJWXV"
      },
      "execution_count": 47,
      "outputs": []
    },
    {
      "cell_type": "code",
      "source": [
        "print(add(5, 6, 7, 8, 9, 5))"
      ],
      "metadata": {
        "colab": {
          "base_uri": "https://localhost:8080/"
        },
        "id": "JH7Z9xHXJb1Q",
        "outputId": "6e666fe8-031d-450d-b833-cb7658f62250"
      },
      "execution_count": 49,
      "outputs": [
        {
          "output_type": "stream",
          "name": "stdout",
          "text": [
            "40\n"
          ]
        }
      ]
    },
    {
      "cell_type": "code",
      "source": [
        "num_list = (3, 6, 6, 8, 9)\n",
        "\n",
        "\n",
        "print(add(*num_list)) # list and tuple unpacking"
      ],
      "metadata": {
        "colab": {
          "base_uri": "https://localhost:8080/"
        },
        "id": "3rh-m3gSKwSE",
        "outputId": "feeccfbb-b2f0-417e-bf26-f4e34014a229"
      },
      "execution_count": 52,
      "outputs": [
        {
          "output_type": "stream",
          "name": "stdout",
          "text": [
            "32\n"
          ]
        }
      ]
    },
    {
      "cell_type": "code",
      "source": [
        "def greet3(**kwargs):\n",
        "    for k, v in kwargs.items():\n",
        "        print(f\"{k}: {v}\")"
      ],
      "metadata": {
        "id": "fuPs4N8SLYz7"
      },
      "execution_count": 55,
      "outputs": []
    },
    {
      "cell_type": "code",
      "source": [
        "greet3(name=\"rehan\", gender=\"male\", education='')"
      ],
      "metadata": {
        "colab": {
          "base_uri": "https://localhost:8080/"
        },
        "id": "50Lpx-hlLoWJ",
        "outputId": "750405af-8db0-442e-8c00-2a96f36acd7b"
      },
      "execution_count": 56,
      "outputs": [
        {
          "output_type": "stream",
          "name": "stdout",
          "text": [
            "name: rehan\n",
            "gender: male\n",
            "education: \n"
          ]
        }
      ]
    },
    {
      "cell_type": "code",
      "source": [
        "def any_func(a, b, /, * , name, **kwargs):\n",
        "    print(a)\n",
        "    print(b)\n",
        "    # print(args)\n",
        "    print(kwargs)"
      ],
      "metadata": {
        "id": "gmCPDVPnMN9_"
      },
      "execution_count": null,
      "outputs": []
    },
    {
      "cell_type": "code",
      "source": [
        "any_func(3,4, name=\"Rehan\", gender=\"male\")"
      ],
      "metadata": {
        "id": "_o6QEqqYMt7d"
      },
      "execution_count": null,
      "outputs": []
    },
    {
      "cell_type": "code",
      "source": [
        "#v1.0\n",
        "def add3(alpha, /, b, c):\n",
        "    return alpha + b + c"
      ],
      "metadata": {
        "id": "PSepG00TO5au"
      },
      "execution_count": 63,
      "outputs": []
    },
    {
      "cell_type": "code",
      "source": [
        "print(add3(4, b=3, c=7))"
      ],
      "metadata": {
        "colab": {
          "base_uri": "https://localhost:8080/"
        },
        "id": "D1f0QDo5PGep",
        "outputId": "b986af96-911b-45c3-e23e-459477e383ad"
      },
      "execution_count": 62,
      "outputs": [
        {
          "output_type": "stream",
          "name": "stdout",
          "text": [
            "14\n"
          ]
        }
      ]
    },
    {
      "cell_type": "code",
      "source": [
        "name = 'Musa' # global\n",
        "\n",
        "def greet(n):\n",
        "    name = \"Usman\" # local\n",
        "    print(f\"Inside function: {name}\")\n",
        "\n",
        "greet(\"Rehan\")\n",
        "\n",
        "\n",
        "print(f\"Outside function: {name}\")"
      ],
      "metadata": {
        "colab": {
          "base_uri": "https://localhost:8080/"
        },
        "id": "dUNGitzpQJO6",
        "outputId": "ce58d7d2-3951-4b7b-fa8a-3fa991f858af"
      },
      "execution_count": 64,
      "outputs": [
        {
          "output_type": "stream",
          "name": "stdout",
          "text": [
            "Inside function: Usman\n",
            "Outside function: Musa\n"
          ]
        }
      ]
    },
    {
      "cell_type": "code",
      "source": [
        "name = [1, 2, 3] # global\n",
        "\n",
        "def greet(n):\n",
        "    name.append(6) # local\n",
        "    print(f\"Inside function: {name}\")\n",
        "\n",
        "greet(\"Rehan\")\n",
        "\n",
        "\n",
        "print(f\"Outside function: {name}\")"
      ],
      "metadata": {
        "colab": {
          "base_uri": "https://localhost:8080/"
        },
        "id": "QPypRnM1SV39",
        "outputId": "7629c245-a85d-465f-cf3d-ced335a225a6"
      },
      "execution_count": 65,
      "outputs": [
        {
          "output_type": "stream",
          "name": "stdout",
          "text": [
            "Inside function: [1, 2, 3, 6]\n",
            "Outside function: [1, 2, 3, 6]\n"
          ]
        }
      ]
    },
    {
      "cell_type": "code",
      "source": [
        "name = [1, 2, 3] # global\n",
        "\n",
        "def greet1(n):\n",
        "    name = [100, 200, 300]  # local\n",
        "    name.append(6)\n",
        "    print(f\"Inside function: {name}\")\n",
        "\n",
        "greet1(\"Rehan\")\n",
        "\n",
        "\n",
        "print(f\"Outside function: {name}\")"
      ],
      "metadata": {
        "colab": {
          "base_uri": "https://localhost:8080/"
        },
        "id": "o64G-QyRTKCw",
        "outputId": "c87b39be-2c9a-4a41-b65e-1fe91635311e"
      },
      "execution_count": 66,
      "outputs": [
        {
          "output_type": "stream",
          "name": "stdout",
          "text": [
            "Inside function: [100, 200, 300, 6]\n",
            "Outside function: [1, 2, 3]\n"
          ]
        }
      ]
    },
    {
      "cell_type": "code",
      "source": [
        "name = 'Musa' # global\n",
        "\n",
        "def greet(n):\n",
        "    global name\n",
        "    name = \"Usman\"\n",
        "    print(f\"Inside function: {name}\")\n",
        "\n",
        "greet(\"Rehan\")\n",
        "\n",
        "\n",
        "print(f\"Outside function: {name}\")"
      ],
      "metadata": {
        "colab": {
          "base_uri": "https://localhost:8080/"
        },
        "id": "qjJ5rMCMTkN-",
        "outputId": "6e88f53b-c801-4563-bbbe-4590c93d882d"
      },
      "execution_count": 67,
      "outputs": [
        {
          "output_type": "stream",
          "name": "stdout",
          "text": [
            "Inside function: Usman\n",
            "Outside function: Usman\n"
          ]
        }
      ]
    },
    {
      "cell_type": "code",
      "source": [
        "def outside():\n",
        "    name =\n",
        "    def inside():\n",
        "        local name"
      ],
      "metadata": {
        "id": "mg2LMpz8UEb3"
      },
      "execution_count": null,
      "outputs": []
    },
    {
      "cell_type": "code",
      "metadata": {
        "colab": {
          "base_uri": "https://localhost:8080/"
        },
        "id": "b1686c40",
        "outputId": "0d536c5d-66ac-4962-fca6-dee3af3ab7b7"
      },
      "source": [
        "x = 4\n",
        "def outside_function():\n",
        "    x = \"I'm in the outside function\"\n",
        "\n",
        "    def inside_function():\n",
        "        nonlocal x\n",
        "        x = \"I'm changed by the inside function\"\n",
        "        print(f\"Inside: {x}\")\n",
        "\n",
        "    print(f\"Outside before calling inside: {x}\")\n",
        "    inside_function()\n",
        "    print(f\"Outside after calling inside: {x}\")\n",
        "\n",
        "outside_function()\n",
        "print(x)"
      ],
      "execution_count": 70,
      "outputs": [
        {
          "output_type": "stream",
          "name": "stdout",
          "text": [
            "Outside before calling inside: I'm in the outside function\n",
            "Inside: I'm changed by the inside function\n",
            "Outside after calling inside: I'm in the outside function\n",
            "I'm changed by the inside function\n"
          ]
        }
      ]
    },
    {
      "cell_type": "code",
      "source": [
        "def out_func():\n",
        "    def in_func():\n",
        "        global y\n",
        "        y = 4\n",
        "    print(y)\n",
        "\n",
        "out_func()\n",
        "print(y)"
      ],
      "metadata": {
        "colab": {
          "base_uri": "https://localhost:8080/",
          "height": 315
        },
        "id": "Ibxs-BnFVJNA",
        "outputId": "e2e27794-707f-49d7-ce29-029647b91272"
      },
      "execution_count": 81,
      "outputs": [
        {
          "output_type": "error",
          "ename": "NameError",
          "evalue": "name 'y' is not defined",
          "traceback": [
            "\u001b[0;31m---------------------------------------------------------------------------\u001b[0m",
            "\u001b[0;31mNameError\u001b[0m                                 Traceback (most recent call last)",
            "\u001b[0;32m/tmp/ipython-input-911635398.py\u001b[0m in \u001b[0;36m<cell line: 0>\u001b[0;34m()\u001b[0m\n\u001b[1;32m      5\u001b[0m     \u001b[0mprint\u001b[0m\u001b[0;34m(\u001b[0m\u001b[0my\u001b[0m\u001b[0;34m)\u001b[0m\u001b[0;34m\u001b[0m\u001b[0;34m\u001b[0m\u001b[0m\n\u001b[1;32m      6\u001b[0m \u001b[0;34m\u001b[0m\u001b[0m\n\u001b[0;32m----> 7\u001b[0;31m \u001b[0mout_func\u001b[0m\u001b[0;34m(\u001b[0m\u001b[0;34m)\u001b[0m\u001b[0;34m\u001b[0m\u001b[0;34m\u001b[0m\u001b[0m\n\u001b[0m\u001b[1;32m      8\u001b[0m \u001b[0mprint\u001b[0m\u001b[0;34m(\u001b[0m\u001b[0my\u001b[0m\u001b[0;34m)\u001b[0m\u001b[0;34m\u001b[0m\u001b[0;34m\u001b[0m\u001b[0m\n",
            "\u001b[0;32m/tmp/ipython-input-911635398.py\u001b[0m in \u001b[0;36mout_func\u001b[0;34m()\u001b[0m\n\u001b[1;32m      3\u001b[0m         \u001b[0;32mglobal\u001b[0m \u001b[0my\u001b[0m\u001b[0;34m\u001b[0m\u001b[0;34m\u001b[0m\u001b[0m\n\u001b[1;32m      4\u001b[0m         \u001b[0my\u001b[0m \u001b[0;34m=\u001b[0m \u001b[0;36m4\u001b[0m\u001b[0;34m\u001b[0m\u001b[0;34m\u001b[0m\u001b[0m\n\u001b[0;32m----> 5\u001b[0;31m     \u001b[0mprint\u001b[0m\u001b[0;34m(\u001b[0m\u001b[0my\u001b[0m\u001b[0;34m)\u001b[0m\u001b[0;34m\u001b[0m\u001b[0;34m\u001b[0m\u001b[0m\n\u001b[0m\u001b[1;32m      6\u001b[0m \u001b[0;34m\u001b[0m\u001b[0m\n\u001b[1;32m      7\u001b[0m \u001b[0mout_func\u001b[0m\u001b[0;34m(\u001b[0m\u001b[0;34m)\u001b[0m\u001b[0;34m\u001b[0m\u001b[0;34m\u001b[0m\u001b[0m\n",
            "\u001b[0;31mNameError\u001b[0m: name 'y' is not defined"
          ]
        }
      ]
    }
  ]
}