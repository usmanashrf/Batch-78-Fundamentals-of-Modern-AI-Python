{
  "nbformat": 4,
  "nbformat_minor": 0,
  "metadata": {
    "colab": {
      "provenance": []
    },
    "kernelspec": {
      "name": "python3",
      "display_name": "Python 3"
    },
    "language_info": {
      "name": "python"
    }
  },
  "cells": [
    {
      "cell_type": "markdown",
      "source": [
        "# **Comprehension in Python**\n",
        "- List Comprehension\n",
        "- Dictionary Comprehension\n",
        "- Set Comprehension"
      ],
      "metadata": {
        "id": "aFt3pnFMepap"
      }
    },
    {
      "cell_type": "markdown",
      "source": [
        "**1. Simple Comprehension**  \n",
        "`[expression for item in iterable]`\n",
        "\n",
        "**2. Comprehension with filtering**  \n",
        "`[expression for item in iterable if condition]`\n",
        "\n",
        "**3. Comprehension with conditional expressions**  \n",
        "`[value_if_true if expression else value_if_false for item in iterable]`\n",
        "\n",
        "**4. Nested Comprehensions**  \n",
        "`[expression for row in matrix for item in row]`"
      ],
      "metadata": {
        "id": "5BJuxXuDdbOL"
      }
    },
    {
      "cell_type": "code",
      "execution_count": 1,
      "metadata": {
        "id": "c7H72DWudRM8",
        "colab": {
          "base_uri": "https://localhost:8080/"
        },
        "outputId": "469805b9-5d06-4428-80a3-40d1a23565d3"
      },
      "outputs": [
        {
          "output_type": "stream",
          "name": "stdout",
          "text": [
            "[0, 1, 4, 9, 16]\n"
          ]
        }
      ],
      "source": [
        "# Create a list of squares from 0 to 4 integers\n",
        "squares = []\n",
        "for x in range(0,5): # 0, 1, 2, 3, 4\n",
        "    squares.append(x**2)\n",
        "\n",
        "print(squares)"
      ]
    },
    {
      "cell_type": "code",
      "source": [
        "square_result = [x**2 for x in range(0,5)]\n",
        "print(square_result)"
      ],
      "metadata": {
        "colab": {
          "base_uri": "https://localhost:8080/"
        },
        "id": "Dim4LrW4WsVE",
        "outputId": "5aee320c-e3d8-45eb-9d01-ea58ffa3141c"
      },
      "execution_count": 2,
      "outputs": [
        {
          "output_type": "stream",
          "name": "stdout",
          "text": [
            "[0, 1, 4, 9, 16]\n"
          ]
        }
      ]
    },
    {
      "cell_type": "code",
      "source": [
        "# [expression for item in iterable]\n",
        "square1 = [x**2 for x in range(5)]\n",
        "squre_comp = [x**2 for x in range(5)]\n",
        "print(squre_comp)"
      ],
      "metadata": {
        "colab": {
          "base_uri": "https://localhost:8080/"
        },
        "id": "gnHIuDg-rbhD",
        "outputId": "480d6906-fb3f-4aaa-b540-31c6e1a53448"
      },
      "execution_count": null,
      "outputs": [
        {
          "output_type": "stream",
          "name": "stdout",
          "text": [
            "[0, 1, 4, 9, 16]\n"
          ]
        }
      ]
    },
    {
      "cell_type": "code",
      "source": [
        "names = [\"Rehan\", \"AmMar\", \"mUSA\"]\n",
        "\n",
        "names_lower = []\n",
        "\n",
        "for name in names:\n",
        "    names_lower.append(name.lower())\n",
        "\n",
        "print(names_lower)"
      ],
      "metadata": {
        "colab": {
          "base_uri": "https://localhost:8080/"
        },
        "id": "hZpuIjWtspTP",
        "outputId": "1a310615-5113-4208-9525-5f64c48dbe0f"
      },
      "execution_count": 4,
      "outputs": [
        {
          "output_type": "stream",
          "name": "stdout",
          "text": [
            "['rehan', 'ammar', 'musa']\n"
          ]
        }
      ]
    },
    {
      "cell_type": "code",
      "source": [
        "lower_case_names = [name.lower() for name in names]\n",
        "print(lower_case_names)\n"
      ],
      "metadata": {
        "colab": {
          "base_uri": "https://localhost:8080/"
        },
        "id": "ajlklVFDXb03",
        "outputId": "86dc30a7-5246-45fa-952d-f2e95ca124d2"
      },
      "execution_count": 5,
      "outputs": [
        {
          "output_type": "stream",
          "name": "stdout",
          "text": [
            "['rehan', 'ammar', 'musa']\n"
          ]
        }
      ]
    },
    {
      "cell_type": "code",
      "source": [
        "names_lower_comp = [name.lower() for name in names]\n",
        "print(names_lower_comp)"
      ],
      "metadata": {
        "colab": {
          "base_uri": "https://localhost:8080/"
        },
        "id": "5LJG4R6_tlTK",
        "outputId": "3ab8ca5b-c162-4299-ed82-04a407cf1ea0"
      },
      "execution_count": null,
      "outputs": [
        {
          "output_type": "stream",
          "name": "stdout",
          "text": [
            "['rehan', 'ammar', 'musa']\n"
          ]
        }
      ]
    },
    {
      "cell_type": "markdown",
      "source": [
        "Create a list of squares of even numbers from 1 to 10"
      ],
      "metadata": {
        "id": "HOCctPMpt3Jk"
      }
    },
    {
      "cell_type": "code",
      "source": [
        "evens = []\n",
        "for x in range(1, 11):\n",
        "    if x % 2 == 0:\n",
        "        evens.append(x**2)\n",
        "\n",
        "print(evens)"
      ],
      "metadata": {
        "id": "yayaBsm2q4QL",
        "colab": {
          "base_uri": "https://localhost:8080/"
        },
        "outputId": "2a8fce73-526f-4db8-a894-64e5cc3cd80b"
      },
      "execution_count": null,
      "outputs": [
        {
          "output_type": "stream",
          "name": "stdout",
          "text": [
            "[4, 16, 36, 64, 100]\n"
          ]
        }
      ]
    },
    {
      "cell_type": "code",
      "source": [
        "even_com = [x**2 for x in range(1,11) if x % 2== 0]\n",
        "print(even_com)"
      ],
      "metadata": {
        "colab": {
          "base_uri": "https://localhost:8080/"
        },
        "id": "8-XOoRhYXtz3",
        "outputId": "c29f93a7-93ae-4bb4-b597-3afafbe50924"
      },
      "execution_count": 7,
      "outputs": [
        {
          "output_type": "stream",
          "name": "stdout",
          "text": [
            "[4, 16, 36, 64, 100]\n"
          ]
        }
      ]
    },
    {
      "cell_type": "code",
      "source": [
        "even_squares_comp = [x**2 for x in range(1,11) if x % 2 == 0] #filtering\n",
        "print(even_squares_comp)"
      ],
      "metadata": {
        "colab": {
          "base_uri": "https://localhost:8080/"
        },
        "id": "9YQ18VlLucEe",
        "outputId": "5db11669-d03c-44ce-acc6-6d35bdd33942"
      },
      "execution_count": null,
      "outputs": [
        {
          "output_type": "stream",
          "name": "stdout",
          "text": [
            "[4, 16, 36, 64, 100]\n"
          ]
        }
      ]
    },
    {
      "cell_type": "code",
      "source": [
        "names = [\"Rehan\", \"Ali\", \"Sara\"]\n",
        "upper_names = []\n",
        "for n in names:\n",
        "    upper_names.append(n.upper())\n",
        "\n",
        "\n",
        "# Todo:\n"
      ],
      "metadata": {
        "id": "SyU3IZHUq0D6"
      },
      "execution_count": null,
      "outputs": []
    },
    {
      "cell_type": "markdown",
      "source": [
        "## Dictionary Comprehension"
      ],
      "metadata": {
        "id": "mHK0V4T0rK1D"
      }
    },
    {
      "cell_type": "code",
      "source": [
        "# Create a dictionary for keys 0 to 1 and values would be sqaures of corresponding keys. {1:1, 2:4, 3:9}\n",
        "squares = {}\n",
        "for x in range(5): # x=0, 1\n",
        "    squares[x] = x**2\n",
        "    # squares [0] = 0 {0:0}\n",
        "    # squares[1]=1    {0:0, 1:1}\n",
        "    # squares[2]=4    {0:0, 1:1, 2:4}\n",
        "\n",
        "print(squares)"
      ],
      "metadata": {
        "id": "yM7gQkzXrNkB",
        "colab": {
          "base_uri": "https://localhost:8080/"
        },
        "outputId": "c02cd29a-cccd-4ab3-cf77-12dffe6d6c7d"
      },
      "execution_count": null,
      "outputs": [
        {
          "output_type": "stream",
          "name": "stdout",
          "text": [
            "{0: 0, 1: 1, 2: 4, 3: 9, 4: 16}\n"
          ]
        }
      ]
    },
    {
      "cell_type": "code",
      "source": [
        "squares_cmp = {x:x**2 for x in range(5)}  # expression --> key:value\n",
        "print(squares_cmp)"
      ],
      "metadata": {
        "colab": {
          "base_uri": "https://localhost:8080/"
        },
        "id": "z_sAGfHjwQXt",
        "outputId": "23af90d3-775e-4344-9af2-f413582acb02"
      },
      "execution_count": null,
      "outputs": [
        {
          "output_type": "stream",
          "name": "stdout",
          "text": [
            "{0: 0, 1: 1, 2: 4, 3: 9, 4: 16}\n"
          ]
        }
      ]
    },
    {
      "cell_type": "code",
      "source": [
        "squares_cmp_even = {100+x:x**2 for x in range(1,11) if x % 2== 0}  # expression --> key:value\n",
        "print(squares_cmp_even)"
      ],
      "metadata": {
        "colab": {
          "base_uri": "https://localhost:8080/"
        },
        "id": "-qA7Gozowptr",
        "outputId": "7ed1746e-0deb-4ab0-c856-8476e7d81c1b"
      },
      "execution_count": null,
      "outputs": [
        {
          "output_type": "stream",
          "name": "stdout",
          "text": [
            "{102: 4, 104: 16, 106: 36, 108: 64, 110: 100}\n"
          ]
        }
      ]
    },
    {
      "cell_type": "code",
      "source": [],
      "metadata": {
        "id": "aX1tm0KyxCp7"
      },
      "execution_count": null,
      "outputs": []
    },
    {
      "cell_type": "code",
      "source": [
        "names = [\"Rehan\", \"Ali\", \"Sara\"]\n",
        "\n",
        "# Convert it to dictionary with key as names and values as length of name\n",
        "\n",
        "trans_names = {name:len(name) for name in names if len(name) > 3}\n",
        "print(trans_names)"
      ],
      "metadata": {
        "id": "Dx0ApsAqrToC",
        "colab": {
          "base_uri": "https://localhost:8080/"
        },
        "outputId": "08170bf9-8a58-4b78-e6ec-57ba354ee71b"
      },
      "execution_count": null,
      "outputs": [
        {
          "output_type": "stream",
          "name": "stdout",
          "text": [
            "{'Rehan': 5, 'Sara': 4}\n"
          ]
        }
      ]
    },
    {
      "cell_type": "markdown",
      "source": [
        "## Set Comprehension"
      ],
      "metadata": {
        "id": "weagdGQLrfmn"
      }
    },
    {
      "cell_type": "code",
      "source": [
        "nums = [1, 2, 2, 3, 3, 4]\n",
        "unique_squares = set()\n",
        "for n in nums:\n",
        "    unique_squares.add(n**2)\n"
      ],
      "metadata": {
        "id": "qsyGSWtIrh9S"
      },
      "execution_count": null,
      "outputs": []
    },
    {
      "cell_type": "code",
      "source": [
        "# Write a dictionary comprehension that takes this list of numbers and maps each even number to its square\n",
        "\n",
        "nums = [1, 2, 3, 4, 5, 6]\n"
      ],
      "metadata": {
        "id": "O4evSGiVrn0L"
      },
      "execution_count": null,
      "outputs": []
    },
    {
      "cell_type": "markdown",
      "source": [
        "## Nested Comprehension"
      ],
      "metadata": {
        "id": "xxTF3wk1rvvZ"
      }
    },
    {
      "cell_type": "code",
      "source": [
        "matrix = [[1, 2, 3], [4, 5, 6], [7, 8, 9]]\n",
        "\n",
        "matrix = [\n",
        "    [1, 2, 3], # Row1\n",
        "    [4, 5, 6], # Row2\n",
        "    [7, 8, 9]  # Row3\n",
        "    ]\n",
        "\n",
        "# for row in matrix:\n",
        "#   for item in row:\n",
        "\n",
        "flattened = []\n",
        "for row in matrix:\n",
        "    for num in row:\n",
        "        flattened.append(num)\n",
        "\n",
        "print(flattened)"
      ],
      "metadata": {
        "id": "WM_kojgcrx6e",
        "colab": {
          "base_uri": "https://localhost:8080/"
        },
        "outputId": "aca49594-d2a8-4b80-d4be-ff99118ade84"
      },
      "execution_count": null,
      "outputs": [
        {
          "output_type": "stream",
          "name": "stdout",
          "text": [
            "[1, 2, 3, 4, 5, 6, 7, 8, 9]\n"
          ]
        }
      ]
    },
    {
      "cell_type": "code",
      "source": [
        "flattened_comp = [num for row in matrix for num in row if num % 2 == 0]\n",
        "print(flattened_comp)"
      ],
      "metadata": {
        "colab": {
          "base_uri": "https://localhost:8080/"
        },
        "id": "frSfemB_zKa4",
        "outputId": "2e269b9f-a4e3-440d-f13c-75a0dc05eb85"
      },
      "execution_count": null,
      "outputs": [
        {
          "output_type": "stream",
          "name": "stdout",
          "text": [
            "[2, 4, 6, 8]\n"
          ]
        }
      ]
    },
    {
      "cell_type": "code",
      "source": [
        "# Write a nested list comprehension that extracts only the even numbers from the same matrix."
      ],
      "metadata": {
        "id": "Km8wQkh4r2ED"
      },
      "execution_count": null,
      "outputs": []
    },
    {
      "cell_type": "markdown",
      "source": [
        "## Conditional Expression inside Comprehension"
      ],
      "metadata": {
        "id": "Pc5oK2mSr7sl"
      }
    },
    {
      "cell_type": "code",
      "source": [
        "matrix = [[1, 2, 3], [4, 5, 6], [7, 8, 9]]\n",
        "# if num is even, \"odd\", else \"odd\"\n",
        "\n",
        "list_str = []\n",
        "for row in matrix:\n",
        "    for num in row:\n",
        "        if num % 2 == 0:\n",
        "            list_str.append(\"even\")\n",
        "        else:\n",
        "            list_str.append(\"odd\")\n",
        "\n",
        "print(list_str)"
      ],
      "metadata": {
        "colab": {
          "base_uri": "https://localhost:8080/"
        },
        "id": "_DHWUtwk0DAq",
        "outputId": "80222ee9-445a-48ce-e261-afd5a038c014"
      },
      "execution_count": null,
      "outputs": [
        {
          "output_type": "stream",
          "name": "stdout",
          "text": [
            "['odd', 'even', 'odd', 'even', 'odd', 'even', 'odd', 'even', 'odd']\n"
          ]
        }
      ]
    },
    {
      "cell_type": "code",
      "source": [
        "# ternary expression\n",
        "new_list = [\"even\" if num % 2 == 0 else \"odd\" for row in matrix for num in row]\n",
        "# new_list = [\"even\" if num % 2 == 0 else \"odd\" for row in matrix for num in row if num > 3]\n",
        "print(new_list)"
      ],
      "metadata": {
        "colab": {
          "base_uri": "https://localhost:8080/"
        },
        "id": "jjX_ex-o0zp_",
        "outputId": "d0a6b015-fc15-4489-f636-bc76e3978c50"
      },
      "execution_count": null,
      "outputs": [
        {
          "output_type": "stream",
          "name": "stdout",
          "text": [
            "['odd', 'even', 'odd', 'even', 'odd', 'even', 'odd', 'even', 'odd']\n"
          ]
        }
      ]
    },
    {
      "cell_type": "code",
      "source": [
        "# Write a list comprehension that replaces every number from 0–9 with \"even\" or \"odd\" depending on its parity."
      ],
      "metadata": {
        "id": "EaVLf5QgsCUt"
      },
      "execution_count": null,
      "outputs": []
    },
    {
      "cell_type": "code",
      "source": [
        "# Write a nested comprehension that creates a flat list of \"even\" or \"odd\" strings for each number in the matrix.\n",
        "()"
      ],
      "metadata": {
        "id": "rKb5-uEUsH88"
      },
      "execution_count": null,
      "outputs": []
    },
    {
      "cell_type": "code",
      "source": [
        "num_list = [1,2,3,4,5,6,7,8,9,10]\n",
        "\n",
        "new_list = []\n",
        "\n",
        "for num in num_list:\n",
        "    if num % 2 == 0:\n",
        "        new_list.append(\"even\")\n",
        "    else:\n",
        "        new_list.append(\"odd\")\n",
        "\n",
        "print(new_list)\n",
        ""
      ],
      "metadata": {
        "colab": {
          "base_uri": "https://localhost:8080/"
        },
        "id": "_--DXsVHWZL0",
        "outputId": "0e343ca9-8ed7-4581-9bfe-f8340be15807"
      },
      "execution_count": 8,
      "outputs": [
        {
          "output_type": "stream",
          "name": "stdout",
          "text": [
            "['odd', 'even', 'odd', 'even', 'odd', 'even', 'odd', 'even', 'odd', 'even']\n"
          ]
        }
      ]
    },
    {
      "cell_type": "code",
      "source": [
        "list_cmp = [\"even\" if num % 2 == 0 else \"odd\" for num in num_list]\n",
        "print(list_cmp)"
      ],
      "metadata": {
        "id": "Le4ZPkKEZgS4"
      },
      "execution_count": null,
      "outputs": []
    },
    {
      "cell_type": "code",
      "source": [
        "# ternary operator\n",
        "# \"even\" if num % 2 == 0 else \"odd\"\n",
        "num = 4\n",
        "if num % 2 == 0:\n",
        "    print(\"even\")\n",
        "else:\n",
        "    print(\"odd\")\n"
      ],
      "metadata": {
        "id": "3dkrXRd5Z5w4"
      },
      "execution_count": null,
      "outputs": []
    }
  ]
}