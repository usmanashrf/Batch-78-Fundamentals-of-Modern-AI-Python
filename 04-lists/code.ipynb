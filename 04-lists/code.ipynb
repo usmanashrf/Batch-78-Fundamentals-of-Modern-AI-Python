{
 "cells": [
  {
   "cell_type": "code",
   "execution_count": 25,
   "metadata": {},
   "outputs": [
    {
     "name": "stdout",
     "output_type": "stream",
     "text": [
      "Ahmed\n",
      "Rehan\n",
      "['Rehan', 'Ali', 'Ahmed']\n",
      "3\n",
      "Rehan\n",
      "Ahmed\n"
     ]
    }
   ],
   "source": [
    "student1_name : str = \"Rehan\"\n",
    "student2_name : str = \"Ali\"\n",
    "student3_name : str = \"Ahmed\"\n",
    "\n",
    "student_names : list[str] = [\"Rehan\", \"Ali\", \"Ahmed\"]\n",
    "                            # 0         1       2\n",
    "print(student3_name)        \n",
    "print(student1_name)        \n",
    "print(student_names)\n",
    "print(len(student_names))\n",
    "\n",
    "student_name : str = student_names[0]\n",
    "print(student_name)\n",
    "print(student_names[2])"
   ]
  },
  {
   "cell_type": "code",
   "execution_count": 34,
   "metadata": {},
   "outputs": [
    {
     "name": "stdout",
     "output_type": "stream",
     "text": [
      "['Red', 'Green', 'Blue']\n",
      "['Red', 'Green', 'Blue', 'Yellow']\n"
     ]
    }
   ],
   "source": [
    "colours : list[str] = [\"Red\", \"Green\", \"Blue\"]\n",
    "print(colours)\n",
    "\n",
    "\n",
    "colours.append(\"Yellow\")\n",
    "print(colours)\n"
   ]
  },
  {
   "cell_type": "code",
   "execution_count": null,
   "metadata": {},
   "outputs": [],
   "source": [
    "colours : list[str] = [\"Red\", \"Green\", \"Blue\"]\n",
    "print(colours)\n",
    "print(f\"{id(colours)}\")\n",
    "\n",
    "colours.append(\"Yellow\")\n",
    "print(colours)\n",
    "print(f\"{id(colours)}\")"
   ]
  },
  {
   "cell_type": "code",
   "execution_count": 35,
   "metadata": {},
   "outputs": [
    {
     "name": "stdout",
     "output_type": "stream",
     "text": [
      "Blue\n"
     ]
    }
   ],
   "source": [
    "colours : list[str] = [\"Red\", \"Green\", \"Blue\"]\n",
    "popped_value = colours.pop()\n",
    "print(popped_value)"
   ]
  },
  {
   "cell_type": "code",
   "execution_count": 36,
   "metadata": {},
   "outputs": [
    {
     "name": "stdout",
     "output_type": "stream",
     "text": [
      "None\n",
      "['Green']\n"
     ]
    }
   ],
   "source": [
    "popped_value = colours.remove(\"Red\")\n",
    "print(popped_value)\n",
    "print(colours)"
   ]
  },
  {
   "cell_type": "code",
   "execution_count": 30,
   "metadata": {},
   "outputs": [
    {
     "name": "stdout",
     "output_type": "stream",
     "text": [
      "['Red', 'Blue']\n"
     ]
    }
   ],
   "source": [
    "colours.pop(1)\n",
    "print(colours)"
   ]
  },
  {
   "cell_type": "code",
   "execution_count": null,
   "metadata": {},
   "outputs": [],
   "source": [
    "colours.pop(1)\n",
    "print(colours)"
   ]
  },
  {
   "cell_type": "code",
   "execution_count": null,
   "metadata": {},
   "outputs": [],
   "source": [
    "zero_list = [0] * 5\n",
    "print(zero_list)  # Output: [0, 0, 0, 0, 0]\n",
    "\n",
    "# list concatenation\n",
    "list1 = [1, 2, 3]\n",
    "list2 = [4, 5, 6]\n",
    "combined_list = list1 + list2\n",
    "print(combined_list)  # Output: [1, 2, 3, 4, 5, 6]\n",
    "\n",
    "# list repetition\n",
    "repeated_list = list1 * 3\n",
    "print(repeated_list)  # Output: [1, 2, 3, 1, 2, 3, 1, 2, 3]\n",
    "\n",
    "# list membership\n",
    "a = 1 in list1\n",
    "print(a)  # Output: True\n",
    "\n",
    "b = 7 in list1\n",
    "print(b)  # Output: False\n",
    "\n",
    "# list length\n",
    "length = len(list1)\n",
    "print(length)  # Output: 3\n",
    "\n",
    "# list and range function\n",
    "new_list = list(range(10))\n",
    "print(new_list)  # Output: [0, 1, 2, 3, 4, 5, 6, 7, 8, 9]\n",
    "\n",
    "message = \"Hello, World!\"\n",
    "characters = list(message)\n",
    "print(characters)  # Output: ['H', 'e', 'l', 'l', 'o', ',', ' ', 'W', 'o', 'r', 'l', 'd', '!']\n",
    "\n",
    "# list unpacking\n",
    "numbered_list = [4, 8, 6]\n",
    "a, b, c = numbered_list\n",
    "print(a)  # Output: 4\n",
    "print(b)  # Output: 8\n",
    "print(c)  # Output: 6\n",
    "\n",
    "another_list = [1,2,3,4,5,6,7,8,9,10]\n",
    "x, *y, z = another_list\n",
    "print(x)  # Output: 1\n",
    "print(y)  # Output: [2, 3, 4, 5, 6, 7, 8,9]\n",
    "print(z)  # Output: 10"
   ]
  },
  {
   "cell_type": "markdown",
   "metadata": {},
   "source": [
    "## Slicing in Lists"
   ]
  },
  {
   "cell_type": "code",
   "execution_count": 2,
   "metadata": {},
   "outputs": [
    {
     "name": "stdout",
     "output_type": "stream",
     "text": [
      "My favourite colour is Blue\n"
     ]
    }
   ],
   "source": [
    "colours : list[str] = [\"Green\", \"Yellow\", \"Blue\", \"Red\"]\n",
    "\n",
    "print(f\"My favourite colour is {colours[2]}\")"
   ]
  },
  {
   "cell_type": "code",
   "execution_count": 3,
   "metadata": {},
   "outputs": [
    {
     "name": "stdout",
     "output_type": "stream",
     "text": [
      "The first colour in list is Read\n"
     ]
    }
   ],
   "source": [
    "print(f\"The first colour in list is {colours[-1]}\")"
   ]
  },
  {
   "cell_type": "code",
   "execution_count": 4,
   "metadata": {},
   "outputs": [
    {
     "name": "stdout",
     "output_type": "stream",
     "text": [
      "[2, 3, 4]\n"
     ]
    }
   ],
   "source": [
    "numbers : list[int] = [1, 2, 3, 4, 5]\n",
    "print(f\"{numbers[1:4]}\")"
   ]
  },
  {
   "cell_type": "code",
   "execution_count": 5,
   "metadata": {},
   "outputs": [
    {
     "name": "stdout",
     "output_type": "stream",
     "text": [
      "My sublist is ['Yellow', 'Blue']\n"
     ]
    }
   ],
   "source": [
    "colours : list[str] = [\"Green\", \"Yellow\", \"Blue\", \"Red\"]\n",
    "print(f\"My sublist is {colours[1:3]}\")\n",
    "print(\" \")"
   ]
  },
  {
   "cell_type": "code",
   "execution_count": 6,
   "metadata": {},
   "outputs": [
    {
     "name": "stdout",
     "output_type": "stream",
     "text": [
      "['Green', 'Yellow', 'Blue', 'Red']\n"
     ]
    }
   ],
   "source": [
    "colours2 : list[str]  = colours[:]\n",
    "print(colours2)"
   ]
  },
  {
   "cell_type": "code",
   "execution_count": 10,
   "metadata": {},
   "outputs": [
    {
     "name": "stdout",
     "output_type": "stream",
     "text": [
      "['Yellow', 'Blue']\n"
     ]
    }
   ],
   "source": [
    "colours : list[str] = [\"Green\", \"Yellow\", \"Blue\", \"Red\"]\n",
    "print(colours[1:-1])"
   ]
  },
  {
   "cell_type": "code",
   "execution_count": 9,
   "metadata": {},
   "outputs": [
    {
     "name": "stdout",
     "output_type": "stream",
     "text": [
      "['Yellow', 'Blue', 'Red']\n"
     ]
    }
   ],
   "source": [
    "colours : list[str] = [\"Green\", \"Yellow\", \"Blue\", \"Red\"]\n",
    "print(colours[1:])"
   ]
  },
  {
   "cell_type": "code",
   "execution_count": 11,
   "metadata": {},
   "outputs": [
    {
     "name": "stdout",
     "output_type": "stream",
     "text": [
      "[1, 3, 5, 7, 9]\n"
     ]
    }
   ],
   "source": [
    "numbers : list[int] = [1, 2, 3, 4, 5, 6, 7, 8, 9, 10]\n",
    "print(numbers[0::2])"
   ]
  },
  {
   "cell_type": "markdown",
   "metadata": {},
   "source": [
    "[start:end:step]"
   ]
  },
  {
   "cell_type": "code",
   "execution_count": 13,
   "metadata": {},
   "outputs": [
    {
     "name": "stdout",
     "output_type": "stream",
     "text": [
      "[1, 3, 5]\n"
     ]
    }
   ],
   "source": [
    "numbers : list[int] = [1, 2, 3, 4, 5, 6, 7, 8, 9, 10]\n",
    "print(numbers[0:5:2])"
   ]
  },
  {
   "cell_type": "code",
   "execution_count": 15,
   "metadata": {},
   "outputs": [
    {
     "name": "stdout",
     "output_type": "stream",
     "text": [
      "[1, 2, 3, 4, 5]\n"
     ]
    }
   ],
   "source": [
    "numbers : list[int] = [1, 2, 3, 4, 5, 6, 7, 8, 9, 10]\n",
    "print(numbers[0:5:1])"
   ]
  },
  {
   "cell_type": "code",
   "execution_count": 16,
   "metadata": {},
   "outputs": [
    {
     "ename": "ValueError",
     "evalue": "slice step cannot be zero",
     "output_type": "error",
     "traceback": [
      "\u001b[1;31m---------------------------------------------------------------------------\u001b[0m",
      "\u001b[1;31mValueError\u001b[0m                                Traceback (most recent call last)",
      "Cell \u001b[1;32mIn[16], line 2\u001b[0m\n\u001b[0;32m      1\u001b[0m numbers : \u001b[38;5;28mlist\u001b[39m[\u001b[38;5;28mint\u001b[39m] \u001b[38;5;241m=\u001b[39m [\u001b[38;5;241m1\u001b[39m, \u001b[38;5;241m2\u001b[39m, \u001b[38;5;241m3\u001b[39m, \u001b[38;5;241m4\u001b[39m, \u001b[38;5;241m5\u001b[39m, \u001b[38;5;241m6\u001b[39m, \u001b[38;5;241m7\u001b[39m, \u001b[38;5;241m8\u001b[39m, \u001b[38;5;241m9\u001b[39m, \u001b[38;5;241m10\u001b[39m]\n\u001b[1;32m----> 2\u001b[0m \u001b[38;5;28mprint\u001b[39m(\u001b[43mnumbers\u001b[49m\u001b[43m[\u001b[49m\u001b[38;5;241;43m0\u001b[39;49m\u001b[43m:\u001b[49m\u001b[38;5;241;43m5\u001b[39;49m\u001b[43m:\u001b[49m\u001b[38;5;241;43m0\u001b[39;49m\u001b[43m]\u001b[49m)\n",
      "\u001b[1;31mValueError\u001b[0m: slice step cannot be zero"
     ]
    }
   ],
   "source": [
    "numbers : list[int] = [1, 2, 3, 4, 5, 6, 7, 8, 9, 10]\n",
    "print(numbers[0:5:0])"
   ]
  },
  {
   "cell_type": "code",
   "execution_count": 14,
   "metadata": {},
   "outputs": [
    {
     "name": "stdout",
     "output_type": "stream",
     "text": [
      "[1, 2, 3, 4, 5, 6, 7, 8, 9, 10]\n"
     ]
    }
   ],
   "source": [
    "print(numbers[::])"
   ]
  },
  {
   "cell_type": "code",
   "execution_count": 17,
   "metadata": {},
   "outputs": [
    {
     "name": "stdout",
     "output_type": "stream",
     "text": [
      "[5, 6, 7, 8]\n"
     ]
    }
   ],
   "source": [
    "numbers : list[int] = [1, 2, 3, 4, 5, 6, 7, 8, 9, 10]\n",
    "print(numbers[-6:-2])\n"
   ]
  },
  {
   "cell_type": "code",
   "execution_count": 26,
   "metadata": {},
   "outputs": [
    {
     "name": "stdout",
     "output_type": "stream",
     "text": [
      "[5, 4]\n"
     ]
    }
   ],
   "source": [
    "print(numbers[-6:-8])"
   ]
  },
  {
   "cell_type": "code",
   "execution_count": 25,
   "metadata": {},
   "outputs": [
    {
     "name": "stdout",
     "output_type": "stream",
     "text": [
      "[10, 9, 8, 7, 6, 5, 4, 3, 2, 1]\n"
     ]
    }
   ],
   "source": [
    "print(numbers[::-1])"
   ]
  },
  {
   "cell_type": "code",
   "execution_count": 29,
   "metadata": {},
   "outputs": [
    {
     "name": "stdout",
     "output_type": "stream",
     "text": [
      "[9, 8, 7, 6, 5, 4]\n"
     ]
    }
   ],
   "source": [
    "print(numbers[-2:-8:-1])"
   ]
  },
  {
   "cell_type": "code",
   "execution_count": 31,
   "metadata": {},
   "outputs": [
    {
     "name": "stdout",
     "output_type": "stream",
     "text": [
      "[1, 2, 3]\n"
     ]
    }
   ],
   "source": [
    "nested_list = [[1,2,3],  [\"a\",\"b\",\"c\"]]\n",
    "\n",
    "print(nested_list[0])"
   ]
  },
  {
   "cell_type": "code",
   "execution_count": 32,
   "metadata": {},
   "outputs": [
    {
     "name": "stdout",
     "output_type": "stream",
     "text": [
      "2\n"
     ]
    }
   ],
   "source": [
    "nested_list = [[1,2,3],  [\"a\",\"b\",\"c\"]]\n",
    "\n",
    "print(nested_list[0][1])"
   ]
  },
  {
   "cell_type": "code",
   "execution_count": 34,
   "metadata": {},
   "outputs": [],
   "source": [
    "students = [[\"Ali\",70,60,80],[\"Rehan\",60,44,76], [\"Muzhar\",78,68,99]]"
   ]
  },
  {
   "cell_type": "code",
   "execution_count": 36,
   "metadata": {},
   "outputs": [
    {
     "name": "stdout",
     "output_type": "stream",
     "text": [
      "[78, 68, 99]\n"
     ]
    }
   ],
   "source": [
    "print(students[2][1:])"
   ]
  },
  {
   "cell_type": "code",
   "execution_count": 37,
   "metadata": {},
   "outputs": [
    {
     "name": "stdout",
     "output_type": "stream",
     "text": [
      "['Muzhar', 78, 68, 99]\n"
     ]
    }
   ],
   "source": [
    "print(students[2][:])"
   ]
  },
  {
   "cell_type": "code",
   "execution_count": 38,
   "metadata": {},
   "outputs": [
    {
     "name": "stdout",
     "output_type": "stream",
     "text": [
      "[78, 99]\n"
     ]
    }
   ],
   "source": [
    "print(students[2][1::2])"
   ]
  },
  {
   "cell_type": "code",
   "execution_count": 39,
   "metadata": {},
   "outputs": [
    {
     "data": {
      "text/plain": [
       "[['Ali', 70, 60, 80], ['Muzhar', 78, 68, 99]]"
      ]
     },
     "execution_count": 39,
     "metadata": {},
     "output_type": "execute_result"
    }
   ],
   "source": [
    "students[0::2][::]"
   ]
  },
  {
   "cell_type": "code",
   "execution_count": 40,
   "metadata": {},
   "outputs": [],
   "source": [
    "three_dem =[ [['a','b'],['c','d'],[21,34]], [['x','y','z'],[41,56]], [['rr','tt','yy'],[11,33,44]]]"
   ]
  },
  {
   "cell_type": "code",
   "execution_count": 42,
   "metadata": {},
   "outputs": [
    {
     "name": "stdout",
     "output_type": "stream",
     "text": [
      "[21, 34]\n"
     ]
    }
   ],
   "source": [
    "print(three_dem[0][2])"
   ]
  },
  {
   "cell_type": "code",
   "execution_count": 45,
   "metadata": {},
   "outputs": [
    {
     "name": "stdout",
     "output_type": "stream",
     "text": [
      "[11, 33, 44]\n"
     ]
    }
   ],
   "source": [
    "print(three_dem[2][1])"
   ]
  },
  {
   "cell_type": "code",
   "execution_count": null,
   "metadata": {},
   "outputs": [],
   "source": []
  }
 ],
 "metadata": {
  "kernelspec": {
   "display_name": "Python 3",
   "language": "python",
   "name": "python3"
  },
  "language_info": {
   "codemirror_mode": {
    "name": "ipython",
    "version": 3
   },
   "file_extension": ".py",
   "mimetype": "text/x-python",
   "name": "python",
   "nbconvert_exporter": "python",
   "pygments_lexer": "ipython3",
   "version": "3.12.2"
  }
 },
 "nbformat": 4,
 "nbformat_minor": 2
}
