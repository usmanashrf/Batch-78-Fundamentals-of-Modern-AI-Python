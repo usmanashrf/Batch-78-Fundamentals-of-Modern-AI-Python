{
  "nbformat": 4,
  "nbformat_minor": 0,
  "metadata": {
    "colab": {
      "provenance": []
    },
    "kernelspec": {
      "name": "python3",
      "display_name": "Python 3"
    },
    "language_info": {
      "name": "python"
    }
  },
  "cells": [
    {
      "cell_type": "markdown",
      "source": [
        "# Class-01\n",
        "## Data Types\n",
        "### String:\n",
        "Anything in single quotes ('I am a string') or double quotes(\"I am also a string\") is a string data type of python."
      ],
      "metadata": {
        "id": "qnx_-kfdRVgn"
      }
    },
    {
      "cell_type": "code",
      "execution_count": 2,
      "metadata": {
        "id": "yY03DWEFt1BM",
        "colab": {
          "base_uri": "https://localhost:8080/",
          "height": 35
        },
        "outputId": "26369f5d-04ae-4498-f35c-b880a819dbd1"
      },
      "outputs": [
        {
          "output_type": "execute_result",
          "data": {
            "text/plain": [
              "'I am a string'"
            ],
            "application/vnd.google.colaboratory.intrinsic+json": {
              "type": "string"
            }
          },
          "metadata": {},
          "execution_count": 2
        }
      ],
      "source": [
        "'I am a string'"
      ]
    },
    {
      "cell_type": "code",
      "source": [
        "\"I am also a string\""
      ],
      "metadata": {
        "colab": {
          "base_uri": "https://localhost:8080/",
          "height": 35
        },
        "id": "4_ihdbz2SSbm",
        "outputId": "5bb48e0c-13e5-4a5b-93bd-bdc54cdece45"
      },
      "execution_count": 3,
      "outputs": [
        {
          "output_type": "execute_result",
          "data": {
            "text/plain": [
              "'I am also a string'"
            ],
            "application/vnd.google.colaboratory.intrinsic+json": {
              "type": "string"
            }
          },
          "metadata": {},
          "execution_count": 3
        }
      ]
    },
    {
      "cell_type": "markdown",
      "source": [
        "### Print function in Python\n",
        "Functions are a piece of code which performs a single task. For example, to print or show the output on to screen for a code written in python, we have to write code in python. Printing / showing output on screen is very common in python. So rather than writing code each time, for this simple task, Python has provided a function. Each time we need it, we call it rather than writing whole code again and again. Since python provided it, we call it builtin function. In upcoming classes, we shall dive deep into functions and will create our own custom functions."
      ],
      "metadata": {
        "id": "keDvh0XHSZOD"
      }
    },
    {
      "cell_type": "code",
      "source": [
        "# builtin function of python\n",
        "print(\"hello world\")"
      ],
      "metadata": {
        "colab": {
          "base_uri": "https://localhost:8080/"
        },
        "id": "04uJMoUcu6Hf",
        "outputId": "2b8ee89f-34ac-49b8-b7b2-3366d51061d6"
      },
      "execution_count": null,
      "outputs": [
        {
          "output_type": "stream",
          "name": "stdout",
          "text": [
            "hello world\n"
          ]
        }
      ]
    },
    {
      "cell_type": "code",
      "source": [
        "print(\"Rehan\")\n",
        "print(\"Rehan\")\n",
        "print(\"Rehan\")\n",
        "print(\"Rehan\")\n",
        "print(\"Rehan\")\n",
        "print(\"Rehan\")\n",
        "print(\"Rehan\")\n",
        "print(\"Rehan\")\n",
        "print(\"Rehan\")\n",
        "print(\"Rehan\")\n",
        "print(\"Rehan\")\n",
        "\n"
      ],
      "metadata": {
        "colab": {
          "base_uri": "https://localhost:8080/"
        },
        "id": "SsnBcjFTwIiq",
        "outputId": "4ff440fb-ca6a-4565-d888-96d291c6d504"
      },
      "execution_count": 5,
      "outputs": [
        {
          "output_type": "stream",
          "name": "stdout",
          "text": [
            "Rehan\n",
            "Rehan\n",
            "Rehan\n",
            "Rehan\n",
            "Rehan\n",
            "Rehan\n",
            "Rehan\n",
            "Rehan\n",
            "Rehan\n",
            "Rehan\n",
            "Rehan\n"
          ]
        }
      ]
    },
    {
      "cell_type": "markdown",
      "source": [
        "What if we want to change the name? Yet we use it on around 10 places /lines. If we had code of couple thousands of line and the name  was being used in that, you can imagine that how much it would be difficult to handle such problem.\n",
        "Here we shall use `variables`."
      ],
      "metadata": {
        "id": "rGh2l355UR5E"
      }
    },
    {
      "cell_type": "code",
      "source": [
        "# Use variable 'my_name' and store a value 'Usman' in it.\n",
        "# If we want to change the name, we have to change it on single place.\n",
        "\n",
        "my_name = \"Usman\"\n",
        "\n",
        "print(my_name)\n",
        "print(my_name)\n",
        "print(my_name)\n",
        "print(my_name)\n",
        "print(my_name)\n",
        "print(my_name)\n",
        "print(my_name)\n",
        "print(my_name)\n",
        "print(my_name)\n",
        "print(my_name)"
      ],
      "metadata": {
        "colab": {
          "base_uri": "https://localhost:8080/"
        },
        "id": "95HkSccRwjO_",
        "outputId": "34335ba5-ce0c-4aff-c765-9b6ca826829b"
      },
      "execution_count": null,
      "outputs": [
        {
          "output_type": "stream",
          "name": "stdout",
          "text": [
            "Rehan\n",
            "Rehan\n",
            "Rehan\n",
            "Rehan\n",
            "Rehan\n",
            "Rehan\n",
            "Rehan\n",
            "Rehan\n",
            "Rehan\n",
            "Rehan\n"
          ]
        }
      ]
    },
    {
      "cell_type": "markdown",
      "source": [
        "`DRY` Principle  --> Don't Repeat Yourself"
      ],
      "metadata": {
        "id": "YgACVamFxUoa"
      }
    },
    {
      "cell_type": "markdown",
      "source": [
        "### Assigning types to variables\n",
        "We can assign data types to variables. In simple worlds, assigning data types is like adding a label to variable which will tell the code editor that what kind of data types should be assigned in a particular variable.\n",
        "Let's see what benefits we shall get by assigning data types."
      ],
      "metadata": {
        "id": "tfSEYZ11XH1w"
      }
    },
    {
      "cell_type": "code",
      "source": [
        "my_name : str = 'Rehan'"
      ],
      "metadata": {
        "id": "bXsSh-nz0zn0"
      },
      "execution_count": null,
      "outputs": []
    },
    {
      "cell_type": "markdown",
      "source": [
        "We assigned `str` data type to `my_name` variable. It will give us following benefits.\n",
        "1. When used in code editor, the linting tools will give us error if at some point we try to assign any data to variable other than `string` data type.\n",
        "\n",
        "2. When some other developer sees the code, he will understand that this variable will always take `string` type value.\n",
        "\n",
        "3. During development (writing code), we added a type safety layer."
      ],
      "metadata": {
        "id": "HARd-LzDatQe"
      }
    },
    {
      "cell_type": "markdown",
      "source": [
        "Intellicense"
      ],
      "metadata": {
        "id": "DIi-aH0n1-m1"
      }
    },
    {
      "cell_type": "markdown",
      "source": [
        "### Re-assigning values to variables"
      ],
      "metadata": {
        "id": "qRwQzeWUcfZV"
      }
    },
    {
      "cell_type": "code",
      "source": [
        "student_name = \"Musa Abdullah\"\n",
        "quarter = \"q1\"\n",
        "student_email = \"musa@example.com\""
      ],
      "metadata": {
        "id": "dEM5idM10it_"
      },
      "execution_count": null,
      "outputs": []
    },
    {
      "cell_type": "code",
      "source": [
        "student_name = \"Rehan\""
      ],
      "metadata": {
        "id": "w48jUMdV2Yr1"
      },
      "execution_count": null,
      "outputs": []
    },
    {
      "cell_type": "code",
      "source": [
        "print(student_name)\n",
        "\n",
        "print(student_email)\n",
        "\n",
        "print(student_email)"
      ],
      "metadata": {
        "id": "9P-qI1mT0sVE"
      },
      "execution_count": null,
      "outputs": []
    },
    {
      "cell_type": "code",
      "source": [
        "my_name = \"Rehan Usman\"\n",
        "print(my_name, )\n",
        "\n",
        "my_name = \"Usman\"\n",
        "\n",
        "print(my_name)\n",
        "\n",
        "print(my_name)"
      ],
      "metadata": {
        "colab": {
          "base_uri": "https://localhost:8080/"
        },
        "id": "GT08TX5x2uA0",
        "outputId": "b7dd8dcf-5386-4255-ce67-4ffc2bcbc4c8"
      },
      "execution_count": null,
      "outputs": [
        {
          "output_type": "stream",
          "name": "stdout",
          "text": [
            "Rehan\n",
            "Usman\n",
            "Usman\n"
          ]
        }
      ]
    },
    {
      "cell_type": "markdown",
      "source": [
        "### Input function\n",
        "`input` is another python builtin function which is used to get input from user.\n",
        "*Always remember that the data type of the data received from the user will always be `str`.*"
      ],
      "metadata": {
        "id": "GJEQNkhAcmBM"
      }
    },
    {
      "cell_type": "code",
      "source": [
        "# input function\n",
        "input()"
      ],
      "metadata": {
        "colab": {
          "base_uri": "https://localhost:8080/",
          "height": 53
        },
        "id": "OeLrv1iK58Wp",
        "outputId": "e31dce1f-1d90-456c-e5e3-9435217dfa3e"
      },
      "execution_count": null,
      "outputs": [
        {
          "name": "stdout",
          "output_type": "stream",
          "text": [
            "asd;ljfsdf;lsdaf;lasdf'lkads\n"
          ]
        },
        {
          "output_type": "execute_result",
          "data": {
            "text/plain": [
              "\"asd;ljfsdf;lsdaf;lasdf'lkads\""
            ],
            "application/vnd.google.colaboratory.intrinsic+json": {
              "type": "string"
            }
          },
          "metadata": {},
          "execution_count": 10
        }
      ]
    },
    {
      "cell_type": "code",
      "source": [
        "my_name : str = input(\"Please enter your name: \")\n",
        "print(\"Output\", my_name)"
      ],
      "metadata": {
        "colab": {
          "base_uri": "https://localhost:8080/"
        },
        "id": "NaAMF_Go6qb6",
        "outputId": "659e7aed-3a0d-4e3c-c010-cb7234a08aa4"
      },
      "execution_count": null,
      "outputs": [
        {
          "output_type": "stream",
          "name": "stdout",
          "text": [
            "Please enter your name: Musa\n",
            "Output Musa\n"
          ]
        }
      ]
    },
    {
      "cell_type": "markdown",
      "source": [
        "## Operators in Python\n",
        "### Arithematic Operators:\n",
        "1- `+` Adding two numbers, or joining two strings\n",
        "\n",
        "2- `-` Subtracting two numbers\n",
        "\n",
        "3- `*` Multiplying two numbers\n",
        "\n",
        "4- `/` Dividing two numbers\n",
        "\n",
        "5- `**` Power of two numbers\n",
        "\n",
        "6- `%` Modulus of two numbers\n",
        "\n",
        "7- `//` Floor division of two numbers"
      ],
      "metadata": {
        "id": "gdid8lmk734a"
      }
    },
    {
      "cell_type": "code",
      "source": [
        "first_number : int = 45\n",
        "second_number : int = 10\n",
        "\n",
        "result = first_number + second_number\n",
        "print(result)"
      ],
      "metadata": {
        "colab": {
          "base_uri": "https://localhost:8080/"
        },
        "id": "yB6eEEZD7m03",
        "outputId": "d8c29c8a-f019-4d90-efac-bf6935269e7e"
      },
      "execution_count": null,
      "outputs": [
        {
          "output_type": "stream",
          "name": "stdout",
          "text": [
            "55\n"
          ]
        }
      ]
    },
    {
      "cell_type": "code",
      "source": [
        "first_name : str = \"Usman\"\n",
        "last_name : str = \"Ashraf\"\n",
        "\n",
        "full_name = first_name +\" \"+ last_name\n",
        "print(full_name)"
      ],
      "metadata": {
        "colab": {
          "base_uri": "https://localhost:8080/"
        },
        "id": "h2qoVAJg8e5x",
        "outputId": "ea7cd554-0893-4b43-e706-be233744e7fe"
      },
      "execution_count": null,
      "outputs": [
        {
          "output_type": "stream",
          "name": "stdout",
          "text": [
            "Usman Ashraf\n"
          ]
        }
      ]
    },
    {
      "cell_type": "code",
      "source": [
        "print(9/4)"
      ],
      "metadata": {
        "colab": {
          "base_uri": "https://localhost:8080/"
        },
        "id": "lSvwdeXS98W0",
        "outputId": "a20f53b3-419f-4f22-e246-6839e1e95cf3"
      },
      "execution_count": null,
      "outputs": [
        {
          "output_type": "stream",
          "name": "stdout",
          "text": [
            "2.25\n"
          ]
        }
      ]
    },
    {
      "cell_type": "code",
      "source": [
        "print(9%4)"
      ],
      "metadata": {
        "colab": {
          "base_uri": "https://localhost:8080/"
        },
        "id": "viZmyn9L-Mo4",
        "outputId": "7d64b820-5ec6-4259-a05e-d0a911ce9057"
      },
      "execution_count": null,
      "outputs": [
        {
          "output_type": "stream",
          "name": "stdout",
          "text": [
            "1\n"
          ]
        }
      ]
    },
    {
      "cell_type": "code",
      "source": [
        "print(13//4)"
      ],
      "metadata": {
        "colab": {
          "base_uri": "https://localhost:8080/"
        },
        "id": "YZTRrXbU-m8J",
        "outputId": "58485a6e-d3c8-448a-bbd0-778f5d246669"
      },
      "execution_count": null,
      "outputs": [
        {
          "output_type": "stream",
          "name": "stdout",
          "text": [
            "3\n"
          ]
        }
      ]
    },
    {
      "cell_type": "code",
      "source": [
        "first_number = input()\n",
        "second_number = input()\n",
        "\n",
        "result = first_number + second_number\n",
        "print(result)\n",
        "\n"
      ],
      "metadata": {
        "colab": {
          "base_uri": "https://localhost:8080/"
        },
        "id": "YXC14pX2_TQu",
        "outputId": "5213d655-9e72-485b-ea72-4139f516d38f"
      },
      "execution_count": null,
      "outputs": [
        {
          "output_type": "stream",
          "name": "stdout",
          "text": [
            "15\n",
            "20\n",
            "1520\n"
          ]
        }
      ]
    },
    {
      "cell_type": "code",
      "source": [
        "first_number = input()\n",
        "print(type(first_number))\n",
        "second_number = input()\n",
        "print(type(second_number))\n",
        "\n",
        "# result = first_number + second_number\n",
        "# print(result)"
      ],
      "metadata": {
        "colab": {
          "base_uri": "https://localhost:8080/"
        },
        "id": "pnUWF--UCauX",
        "outputId": "34ed7748-2b36-4661-f24f-2b8383f2b225"
      },
      "execution_count": null,
      "outputs": [
        {
          "output_type": "stream",
          "name": "stdout",
          "text": [
            "15\n",
            "<class 'str'>\n",
            "20\n",
            "<class 'str'>\n"
          ]
        }
      ]
    },
    {
      "cell_type": "code",
      "source": [
        "num1 = \"4\"\n",
        "first_number = int(num1)\n",
        "print(type(first_number))\n",
        "\n",
        "# num2 = \"5\"\n",
        "# print(num1 + num2)"
      ],
      "metadata": {
        "colab": {
          "base_uri": "https://localhost:8080/"
        },
        "id": "8uEauj0jDInS",
        "outputId": "6edbf904-c44a-47e7-8b64-f82f2503d5c8"
      },
      "execution_count": null,
      "outputs": [
        {
          "output_type": "stream",
          "name": "stdout",
          "text": [
            "<class 'int'>\n"
          ]
        }
      ]
    },
    {
      "cell_type": "markdown",
      "source": [
        "## F-String"
      ],
      "metadata": {
        "id": "1bI5xwBxNoNd"
      }
    },
    {
      "cell_type": "code",
      "source": [
        "first_name : str = \"Usman\"\n",
        "last_name : str = \"Ashraf\"\n",
        "age : int  = 65\n",
        "print(\"My name is \", first_name, last_name,\".\", \"My age is \", age)"
      ],
      "metadata": {
        "colab": {
          "base_uri": "https://localhost:8080/"
        },
        "id": "5CWzEU1mNwdH",
        "outputId": "3b8b91ba-3564-4d87-f013-a18bf0cfe85b"
      },
      "execution_count": null,
      "outputs": [
        {
          "output_type": "stream",
          "name": "stdout",
          "text": [
            "My name is  Usman Ashraf My age is  65\n"
          ]
        }
      ]
    },
    {
      "cell_type": "code",
      "source": [
        "print(f\"My name is {first_name} {last_name}. My age is {age}\")"
      ],
      "metadata": {
        "id": "G2InWZS0Oanh"
      },
      "execution_count": null,
      "outputs": []
    },
    {
      "cell_type": "code",
      "source": [
        "name = \"Rehan\"\n",
        "roll_number = \"PIAIC234\"\n",
        "venue = \"Main Auditorium\"\n",
        "schedule = \"12:15 to 3:15\"\n",
        "\n",
        "\n",
        "print(f\"Dear {name},\")\n",
        "\n",
        "print(f\"You admission has been confirmed. Your roll number is {roll_number}.\")\n",
        "\n",
        "print(f\"You class will be held in {venue} at {schedule}.\")"
      ],
      "metadata": {
        "colab": {
          "base_uri": "https://localhost:8080/"
        },
        "id": "tiXYVS9ZPH4p",
        "outputId": "005aca0b-4a6b-4b1b-beac-03021a22e254"
      },
      "execution_count": null,
      "outputs": [
        {
          "output_type": "stream",
          "name": "stdout",
          "text": [
            "Dear Rehan,\n",
            "You admission has been confirmed. Your roll number is PIAIC234.\n",
            "You class will be held in Main Auditorium at 12:15 to 3:15.\n"
          ]
        }
      ]
    },
    {
      "cell_type": "code",
      "source": [
        "print(\"Dear {}, You age is {}\".format(name, age))"
      ],
      "metadata": {
        "colab": {
          "base_uri": "https://localhost:8080/"
        },
        "id": "vT7-YdepR0Nv",
        "outputId": "7b87266e-64e2-4e10-8700-7ca37b27b865"
      },
      "execution_count": null,
      "outputs": [
        {
          "output_type": "stream",
          "name": "stdout",
          "text": [
            "Dear rehan, You age is 65\n"
          ]
        }
      ]
    },
    {
      "cell_type": "code",
      "source": [
        "name = 'rehan'\n",
        "name"
      ],
      "metadata": {
        "colab": {
          "base_uri": "https://localhost:8080/",
          "height": 36
        },
        "id": "EQgaHVm8Q5_k",
        "outputId": "cd76c662-7143-4e63-da23-a9e016277741"
      },
      "execution_count": null,
      "outputs": [
        {
          "output_type": "execute_result",
          "data": {
            "text/plain": [
              "'rehan'"
            ],
            "application/vnd.google.colaboratory.intrinsic+json": {
              "type": "string"
            }
          },
          "metadata": {},
          "execution_count": 38
        }
      ]
    },
    {
      "cell_type": "code",
      "source": [
        "my_name : str = \"Rehan\"\n",
        "print(my_name)"
      ],
      "metadata": {
        "id": "spDxdLOKRxe4"
      },
      "execution_count": null,
      "outputs": []
    },
    {
      "cell_type": "code",
      "source": [
        "user_name : str = \"rehan\"\n",
        "user_age : int = int(input(\"Please enter your age: \"))\n",
        "print(user_name)\n",
        "\n",
        "# print(user_age + user)\n",
        "\n",
        "\n",
        "user_age = \"rehan\""
      ],
      "metadata": {
        "id": "y7NQsFtrTFk1"
      },
      "execution_count": null,
      "outputs": []
    }
  ]
}