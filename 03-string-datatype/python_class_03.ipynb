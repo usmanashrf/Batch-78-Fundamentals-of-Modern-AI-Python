{
  "nbformat": 4,
  "nbformat_minor": 0,
  "metadata": {
    "colab": {
      "provenance": []
    },
    "kernelspec": {
      "name": "python3",
      "display_name": "Python 3"
    },
    "language_info": {
      "name": "python"
    }
  },
  "cells": [
    {
      "cell_type": "markdown",
      "source": [
        "## Comments in Python"
      ],
      "metadata": {
        "id": "dTlDnHBZogdm"
      }
    },
    {
      "cell_type": "code",
      "source": [
        "\n",
        "total_amount = 45657 + 4343 # This is a comment\n",
        "# This is also a comment"
      ],
      "metadata": {
        "id": "9ghhI3jTt2ih"
      },
      "execution_count": null,
      "outputs": []
    },
    {
      "cell_type": "markdown",
      "source": [
        "## Doc String - Multiline Comments"
      ],
      "metadata": {
        "id": "vXHtWcaSoklX"
      }
    },
    {
      "cell_type": "code",
      "source": [
        "\"hi  asdfdsfasdfdsafadsfdsaf\n",
        "asdfdsfd\""
      ],
      "metadata": {
        "colab": {
          "base_uri": "https://localhost:8080/",
          "height": 106
        },
        "id": "SKBHK-HGu8hJ",
        "outputId": "91487760-c294-4eef-e3bf-7326e2eaedcd"
      },
      "execution_count": 1,
      "outputs": [
        {
          "output_type": "error",
          "ename": "SyntaxError",
          "evalue": "unterminated string literal (detected at line 1) (<ipython-input-1-089059d3fd82>, line 1)",
          "traceback": [
            "\u001b[0;36m  File \u001b[0;32m\"<ipython-input-1-089059d3fd82>\"\u001b[0;36m, line \u001b[0;32m1\u001b[0m\n\u001b[0;31m    '  hi  asdfdsfasdfdsafadsfdsaf\u001b[0m\n\u001b[0m    ^\u001b[0m\n\u001b[0;31mSyntaxError\u001b[0m\u001b[0;31m:\u001b[0m unterminated string literal (detected at line 1)\n"
          ]
        }
      ]
    },
    {
      "cell_type": "code",
      "source": [
        "#Doc String\n",
        "any_text = '''\n",
        "This is first line.\n",
        "this is second line\n",
        "this is third line\n",
        "'''\n",
        "print(any_text)\n"
      ],
      "metadata": {
        "colab": {
          "base_uri": "https://localhost:8080/"
        },
        "id": "m3jFuPq5vjDv",
        "outputId": "a2a08a8f-e6df-4df2-c51e-6eec4eb53a60"
      },
      "execution_count": 2,
      "outputs": [
        {
          "output_type": "stream",
          "name": "stdout",
          "text": [
            " \n",
            "This is first line.\n",
            "this is second line\n",
            "this is third line  \n",
            "\n"
          ]
        }
      ]
    },
    {
      "cell_type": "code",
      "source": [
        "'''\n",
        "This is multiline comment\n",
        "and goes on.\n",
        "'''\n",
        "# This is a comment"
      ],
      "metadata": {
        "id": "YrofrTvGwB4O"
      },
      "execution_count": null,
      "outputs": []
    },
    {
      "cell_type": "code",
      "source": [
        "total_amount = 234343 +\n",
        "345456"
      ],
      "metadata": {
        "colab": {
          "base_uri": "https://localhost:8080/",
          "height": 106
        },
        "id": "MSaZXz9hwlvW",
        "outputId": "e44b079f-ccdd-450c-9bc7-e66b914dcfa0"
      },
      "execution_count": 3,
      "outputs": [
        {
          "output_type": "error",
          "ename": "SyntaxError",
          "evalue": "invalid syntax (<ipython-input-3-06e871f7ce70>, line 1)",
          "traceback": [
            "\u001b[0;36m  File \u001b[0;32m\"<ipython-input-3-06e871f7ce70>\"\u001b[0;36m, line \u001b[0;32m1\u001b[0m\n\u001b[0;31m    total_amount = 234343 +\u001b[0m\n\u001b[0m                           ^\u001b[0m\n\u001b[0;31mSyntaxError\u001b[0m\u001b[0;31m:\u001b[0m invalid syntax\n"
          ]
        }
      ]
    },
    {
      "cell_type": "markdown",
      "source": [
        "## Escape Character `\\`"
      ],
      "metadata": {
        "id": "UjhPxwd4oqxu"
      }
    },
    {
      "cell_type": "code",
      "source": [
        "total_amount = 234343 +\\\n",
        "345456\n",
        "print(total_amount)"
      ],
      "metadata": {
        "colab": {
          "base_uri": "https://localhost:8080/"
        },
        "id": "WxMpHv6nwpI2",
        "outputId": "8bf05fb4-660d-4924-cd7d-14a1d6c5086a"
      },
      "execution_count": 4,
      "outputs": [
        {
          "output_type": "stream",
          "name": "stdout",
          "text": [
            "579799\n"
          ]
        }
      ]
    },
    {
      "cell_type": "markdown",
      "source": [
        "## Escape Sequence\n",
        " Escape Sequence\n"
      ],
      "metadata": {
        "id": "I-XSkxarx8D9"
      }
    },
    {
      "cell_type": "code",
      "source": [
        "# \\   -> Escape character\n",
        "# \\n  -> Escape sequence\n",
        "# \\n  -> inserts new line\n",
        "# \\\\  -> inserts backslach\n",
        "# \\'  -> inserts single quote\n",
        "# \\\"  -> inserts double quote\n",
        "# \\t  -> inserts tab\n",
        "# \\r  -> moves the cursor to the start of the line\n",
        "# \\a  -> Beeps\n",
        "# \\b  -> Backspace"
      ],
      "metadata": {
        "id": "psceWSCOxqoE"
      },
      "execution_count": null,
      "outputs": []
    },
    {
      "cell_type": "code",
      "source": [
        "# print(\"This is string with \\\\\")\n",
        "# print(\"THis is one line.\\nThis is second line\")\n",
        "# print('Rehan\\'s')\n",
        "# print(\"Hi this is me\\tRehan\")\n",
        "# print(\"Hi this is \\r\\bRehan\")"
      ],
      "metadata": {
        "colab": {
          "base_uri": "https://localhost:8080/"
        },
        "id": "fLJ9QafMySCR",
        "outputId": "e05a201f-8837-44d7-df45-f25550c34621"
      },
      "execution_count": 14,
      "outputs": [
        {
          "output_type": "stream",
          "name": "stdout",
          "text": [
            "Hi this is \r\bRehan\n"
          ]
        }
      ]
    },
    {
      "cell_type": "markdown",
      "source": [
        "## String Multiplication"
      ],
      "metadata": {
        "id": "Jrh1zX3vox8y"
      }
    },
    {
      "cell_type": "code",
      "source": [
        "print(\"Rehan\"*3)"
      ],
      "metadata": {
        "colab": {
          "base_uri": "https://localhost:8080/"
        },
        "id": "OV88nGpo1aE5",
        "outputId": "f38b4b5e-2396-4b7c-808f-b2df3cf11ef2"
      },
      "execution_count": 15,
      "outputs": [
        {
          "output_type": "stream",
          "name": "stdout",
          "text": [
            "RehanRehanRehan\n"
          ]
        }
      ]
    },
    {
      "cell_type": "markdown",
      "source": [],
      "metadata": {
        "id": "3DumvHbUyXT_"
      }
    },
    {
      "cell_type": "markdown",
      "source": [
        "## Importance of builtin methods\n",
        "- for data manipulation"
      ],
      "metadata": {
        "id": "M877DYtuo2o9"
      }
    },
    {
      "cell_type": "code",
      "source": [
        "student_name = \"Rehan\""
      ],
      "metadata": {
        "id": "gXtPkP3o2UV7"
      },
      "execution_count": null,
      "outputs": []
    },
    {
      "cell_type": "code",
      "source": [
        "student_name = input(\"Enter your name: \")\n",
        "print(f\"Hello {student_name}!\")"
      ],
      "metadata": {
        "colab": {
          "base_uri": "https://localhost:8080/"
        },
        "id": "7QRhAZJ010iu",
        "outputId": "7217860e-7c47-4f0a-9919-9a19d3b5f4cf"
      },
      "execution_count": 19,
      "outputs": [
        {
          "output_type": "stream",
          "name": "stdout",
          "text": [
            "Enter your name: bilal\n",
            "Hello bilal!\n"
          ]
        }
      ]
    },
    {
      "cell_type": "code",
      "source": [
        "name = 'REHAN'\n",
        "print(name)\n",
        "name.lower()"
      ],
      "metadata": {
        "colab": {
          "base_uri": "https://localhost:8080/",
          "height": 53
        },
        "id": "nBbDncZY2voU",
        "outputId": "40a09337-d5fd-4940-a8a8-77d9ed8efa78"
      },
      "execution_count": 20,
      "outputs": [
        {
          "output_type": "stream",
          "name": "stdout",
          "text": [
            "REHAN\n"
          ]
        },
        {
          "output_type": "execute_result",
          "data": {
            "text/plain": [
              "'rehan'"
            ],
            "application/vnd.google.colaboratory.intrinsic+json": {
              "type": "string"
            }
          },
          "metadata": {},
          "execution_count": 20
        }
      ]
    },
    {
      "cell_type": "markdown",
      "source": [
        "## How to get builtin methods of string:\n",
        "- use of `dir()` function"
      ],
      "metadata": {
        "id": "lZrIpzAjoPYr"
      }
    },
    {
      "cell_type": "code",
      "source": [
        "name = \"Rehan\"\n",
        "dir(name)\n",
        "\n",
        "# number= 4\n",
        "# dir(number)"
      ],
      "metadata": {
        "colab": {
          "base_uri": "https://localhost:8080/"
        },
        "id": "x1s5u4TI3HJ2",
        "outputId": "a0742244-f31e-4beb-f969-045184bbed87"
      },
      "execution_count": 21,
      "outputs": [
        {
          "output_type": "execute_result",
          "data": {
            "text/plain": [
              "['__add__',\n",
              " '__class__',\n",
              " '__contains__',\n",
              " '__delattr__',\n",
              " '__dir__',\n",
              " '__doc__',\n",
              " '__eq__',\n",
              " '__format__',\n",
              " '__ge__',\n",
              " '__getattribute__',\n",
              " '__getitem__',\n",
              " '__getnewargs__',\n",
              " '__gt__',\n",
              " '__hash__',\n",
              " '__init__',\n",
              " '__init_subclass__',\n",
              " '__iter__',\n",
              " '__le__',\n",
              " '__len__',\n",
              " '__lt__',\n",
              " '__mod__',\n",
              " '__mul__',\n",
              " '__ne__',\n",
              " '__new__',\n",
              " '__reduce__',\n",
              " '__reduce_ex__',\n",
              " '__repr__',\n",
              " '__rmod__',\n",
              " '__rmul__',\n",
              " '__setattr__',\n",
              " '__sizeof__',\n",
              " '__str__',\n",
              " '__subclasshook__',\n",
              " 'capitalize',\n",
              " 'casefold',\n",
              " 'center',\n",
              " 'count',\n",
              " 'encode',\n",
              " 'endswith',\n",
              " 'expandtabs',\n",
              " 'find',\n",
              " 'format',\n",
              " 'format_map',\n",
              " 'index',\n",
              " 'isalnum',\n",
              " 'isalpha',\n",
              " 'isascii',\n",
              " 'isdecimal',\n",
              " 'isdigit',\n",
              " 'isidentifier',\n",
              " 'islower',\n",
              " 'isnumeric',\n",
              " 'isprintable',\n",
              " 'isspace',\n",
              " 'istitle',\n",
              " 'isupper',\n",
              " 'join',\n",
              " 'ljust',\n",
              " 'lower',\n",
              " 'lstrip',\n",
              " 'maketrans',\n",
              " 'partition',\n",
              " 'removeprefix',\n",
              " 'removesuffix',\n",
              " 'replace',\n",
              " 'rfind',\n",
              " 'rindex',\n",
              " 'rjust',\n",
              " 'rpartition',\n",
              " 'rsplit',\n",
              " 'rstrip',\n",
              " 'split',\n",
              " 'splitlines',\n",
              " 'startswith',\n",
              " 'strip',\n",
              " 'swapcase',\n",
              " 'title',\n",
              " 'translate',\n",
              " 'upper',\n",
              " 'zfill']"
            ]
          },
          "metadata": {},
          "execution_count": 21
        }
      ]
    },
    {
      "cell_type": "code",
      "source": [
        "city = \"ISB\"\n",
        "\n",
        "city.casefold()\n",
        "city"
      ],
      "metadata": {
        "colab": {
          "base_uri": "https://localhost:8080/",
          "height": 36
        },
        "id": "MuNrQ0av4R8R",
        "outputId": "e110c532-2cb1-4601-ef1a-335be91db92b"
      },
      "execution_count": 23,
      "outputs": [
        {
          "output_type": "execute_result",
          "data": {
            "text/plain": [
              "'isb'"
            ],
            "application/vnd.google.colaboratory.intrinsic+json": {
              "type": "string"
            }
          },
          "metadata": {},
          "execution_count": 23
        }
      ]
    },
    {
      "cell_type": "markdown",
      "source": [
        "## String Methods\n",
        "\n",
        "---\n",
        "\n",
        "### **1. Whitespace Manipulation:**\n",
        "- `strip`, `lstrip`, `rstrip`\n",
        "\n",
        "---\n",
        "\n",
        "### **2. String Formatting:**\n",
        "- `format`, `format_map`\n",
        "\n",
        "---\n",
        "\n",
        "### **3. Character Case Manipulation:**\n",
        "- `capitalize`, `casefold`, `lower`, `upper`, `swapcase`, `title`, `istitle`, `islower`, `isupper`\n",
        "\n",
        "---\n",
        "\n",
        "### **4. Substring Search and Validation:**\n",
        "- `find`, `rfind`, `index`, `rindex`, `startswith`, `endswith`\n",
        "\n",
        "---\n",
        "\n",
        "### **5. Substring Count and Replacement:**\n",
        "- `count`, `replace`\n",
        "\n",
        "---\n",
        "\n",
        "### **6. Join and Split Operations:**\n",
        "- `join`, `split`, `rsplit`, `partition`, `rpartition`, `splitlines`\n",
        "\n",
        "---\n",
        "\n",
        "### **7. String Alignment and Padding:**\n",
        "- `center`, `ljust`, `rjust`, `zfill`\n",
        "\n",
        "---\n",
        "\n",
        "### **8. Encoding and Translation:**\n",
        "- `encode`, `translate`, `maketrans`\n",
        "\n",
        "---\n",
        "\n",
        "### **9. Prefix and Suffix Manipulation:**\n",
        "- `removeprefix`, `removesuffix`\n",
        "\n",
        "---\n",
        "\n",
        "### **10. Tab Handling:**\n",
        "- `expandtabs`\n",
        "\n",
        "---\n",
        "\n",
        "### **11. Character Classification (Validation Methods):**\n",
        "- `isalnum`, `isalpha`, `isascii`, `isdecimal`, `isdigit`, `isidentifier`, `isnumeric`, `isprintable`, `isspace`\n",
        "\n",
        "---"
      ],
      "metadata": {
        "id": "JssOo6oFprd0"
      }
    },
    {
      "cell_type": "code",
      "execution_count": 24,
      "metadata": {
        "id": "xSi2Vbe-pqik"
      },
      "outputs": [],
      "source": [
        "student1=\"Nadeem\"\n",
        "student1_email=\"ac@ff.com\"\n",
        "\n",
        "student2=\"Ali\"\n",
        "student2_email=\"ac@ff.com\"\n",
        "\n",
        "\n",
        "\n"
      ]
    },
    {
      "cell_type": "markdown",
      "source": [
        "# Lists in Python\n",
        "- Mutable data structure"
      ],
      "metadata": {
        "id": "BCVlkbGjpFZo"
      }
    },
    {
      "cell_type": "code",
      "source": [
        "students = [\"Rehan\", \"Muzhar\", \"Ibtisam\"]\n",
        "\n",
        "students"
      ],
      "metadata": {
        "colab": {
          "base_uri": "https://localhost:8080/"
        },
        "id": "T-6xN1qH6sO7",
        "outputId": "90f2fc68-acec-467a-84b7-6598c02f6503"
      },
      "execution_count": 25,
      "outputs": [
        {
          "output_type": "execute_result",
          "data": {
            "text/plain": [
              "['Rehan', 'Muzhar', 'Ibtisam']"
            ]
          },
          "metadata": {},
          "execution_count": 25
        }
      ]
    },
    {
      "cell_type": "code",
      "source": [
        "# Indexing in lists\n",
        "            # 0        1          2\n",
        "students = [\"Rehan\", \"Muzhar\", \"Ibtisam\"]\n",
        "\n",
        "print(students[0])\n",
        "print(students[2])\n"
      ],
      "metadata": {
        "colab": {
          "base_uri": "https://localhost:8080/",
          "height": 36
        },
        "id": "PZ-z3WJ568ug",
        "outputId": "a7e272f5-0cff-482e-fef5-65e4ac8a90d9"
      },
      "execution_count": 27,
      "outputs": [
        {
          "output_type": "execute_result",
          "data": {
            "text/plain": [
              "'Ibtisam'"
            ],
            "application/vnd.google.colaboratory.intrinsic+json": {
              "type": "string"
            }
          },
          "metadata": {},
          "execution_count": 27
        }
      ]
    },
    {
      "cell_type": "markdown",
      "source": [
        "### Common List methods"
      ],
      "metadata": {
        "id": "eJM1s05gpOu-"
      }
    },
    {
      "cell_type": "code",
      "source": [
        "students.append(\"Nadeem\")"
      ],
      "metadata": {
        "id": "0ALxNjJk7hZP"
      },
      "execution_count": 28,
      "outputs": []
    },
    {
      "cell_type": "code",
      "source": [
        "students"
      ],
      "metadata": {
        "colab": {
          "base_uri": "https://localhost:8080/"
        },
        "id": "QUmdskjJ8O8_",
        "outputId": "17db2e74-eef1-4bab-a20f-21c0ea953960"
      },
      "execution_count": 29,
      "outputs": [
        {
          "output_type": "execute_result",
          "data": {
            "text/plain": [
              "['Rehan', 'Muzhar', 'Ibtisam', 'Nadeem']"
            ]
          },
          "metadata": {},
          "execution_count": 29
        }
      ]
    },
    {
      "cell_type": "code",
      "source": [
        "students.pop()"
      ],
      "metadata": {
        "colab": {
          "base_uri": "https://localhost:8080/",
          "height": 36
        },
        "id": "ze9SZ63m8SF_",
        "outputId": "6bf0c54e-4820-474b-cf48-b91c711cf36a"
      },
      "execution_count": 30,
      "outputs": [
        {
          "output_type": "execute_result",
          "data": {
            "text/plain": [
              "'Nadeem'"
            ],
            "application/vnd.google.colaboratory.intrinsic+json": {
              "type": "string"
            }
          },
          "metadata": {},
          "execution_count": 30
        }
      ]
    },
    {
      "cell_type": "code",
      "source": [
        "students"
      ],
      "metadata": {
        "colab": {
          "base_uri": "https://localhost:8080/"
        },
        "id": "pjLdypQ28fAc",
        "outputId": "93fcbcaf-bc07-4343-effa-13bcc7254c15"
      },
      "execution_count": 31,
      "outputs": [
        {
          "output_type": "execute_result",
          "data": {
            "text/plain": [
              "['Rehan', 'Muzhar', 'Ibtisam']"
            ]
          },
          "metadata": {},
          "execution_count": 31
        }
      ]
    },
    {
      "cell_type": "code",
      "source": [
        "students.pop(2)"
      ],
      "metadata": {
        "colab": {
          "base_uri": "https://localhost:8080/",
          "height": 36
        },
        "id": "Z7K5yoUJ9mQR",
        "outputId": "5d1f73f5-3118-47e9-e7c7-1dedb31e1bd9"
      },
      "execution_count": 32,
      "outputs": [
        {
          "output_type": "execute_result",
          "data": {
            "text/plain": [
              "'Ibtisam'"
            ],
            "application/vnd.google.colaboratory.intrinsic+json": {
              "type": "string"
            }
          },
          "metadata": {},
          "execution_count": 32
        }
      ]
    },
    {
      "cell_type": "code",
      "source": [
        "students"
      ],
      "metadata": {
        "colab": {
          "base_uri": "https://localhost:8080/"
        },
        "id": "G-t-qms49pWf",
        "outputId": "f97f3db5-18e2-4fe2-dc5b-33c8121bfcd9"
      },
      "execution_count": 33,
      "outputs": [
        {
          "output_type": "execute_result",
          "data": {
            "text/plain": [
              "['Rehan', 'Muzhar']"
            ]
          },
          "metadata": {},
          "execution_count": 33
        }
      ]
    },
    {
      "cell_type": "code",
      "source": [
        "students.remove(\"Rehan\")"
      ],
      "metadata": {
        "id": "Abblf9Y79rei"
      },
      "execution_count": 34,
      "outputs": []
    },
    {
      "cell_type": "code",
      "source": [
        "students"
      ],
      "metadata": {
        "colab": {
          "base_uri": "https://localhost:8080/"
        },
        "id": "8pxZqF9g90_8",
        "outputId": "cce5b247-0c4d-4cd8-a4c1-d0fe1232bc73"
      },
      "execution_count": 35,
      "outputs": [
        {
          "output_type": "execute_result",
          "data": {
            "text/plain": [
              "['Muzhar']"
            ]
          },
          "metadata": {},
          "execution_count": 35
        }
      ]
    },
    {
      "cell_type": "code",
      "source": [
        "phrase = list(\"LongLivePakistan!\")\n",
        "phrase"
      ],
      "metadata": {
        "colab": {
          "base_uri": "https://localhost:8080/"
        },
        "collapsed": true,
        "id": "h6QKOFIa92sw",
        "outputId": "48b60c25-b24c-4962-9f02-4c5f8e2e0b0f"
      },
      "execution_count": 2,
      "outputs": [
        {
          "output_type": "execute_result",
          "data": {
            "text/plain": [
              "['L',\n",
              " 'o',\n",
              " 'n',\n",
              " 'g',\n",
              " 'L',\n",
              " 'i',\n",
              " 'v',\n",
              " 'e',\n",
              " 'P',\n",
              " 'a',\n",
              " 'k',\n",
              " 'i',\n",
              " 's',\n",
              " 't',\n",
              " 'a',\n",
              " 'n',\n",
              " '!']"
            ]
          },
          "metadata": {},
          "execution_count": 2
        }
      ]
    },
    {
      "cell_type": "markdown",
      "source": [
        "## Slicing in List"
      ],
      "metadata": {
        "id": "s8c7nsu1pUvZ"
      }
    },
    {
      "cell_type": "code",
      "source": [
        "phrase[1:5]  #n-1"
      ],
      "metadata": {
        "colab": {
          "base_uri": "https://localhost:8080/"
        },
        "id": "o8V4zMlG_vjw",
        "outputId": "5b6392b2-4b5e-48ad-d067-c531ec02a5f2"
      },
      "execution_count": 3,
      "outputs": [
        {
          "output_type": "execute_result",
          "data": {
            "text/plain": [
              "['o', 'n', 'g', 'L']"
            ]
          },
          "metadata": {},
          "execution_count": 3
        }
      ]
    },
    {
      "cell_type": "code",
      "source": [
        "phrase[0:]"
      ],
      "metadata": {
        "colab": {
          "base_uri": "https://localhost:8080/"
        },
        "id": "OBUnWa9YAFeM",
        "outputId": "0243deac-e221-456a-81b7-18443e706cd6"
      },
      "execution_count": 4,
      "outputs": [
        {
          "output_type": "execute_result",
          "data": {
            "text/plain": [
              "['L',\n",
              " 'o',\n",
              " 'n',\n",
              " 'g',\n",
              " 'L',\n",
              " 'i',\n",
              " 'v',\n",
              " 'e',\n",
              " 'P',\n",
              " 'a',\n",
              " 'k',\n",
              " 'i',\n",
              " 's',\n",
              " 't',\n",
              " 'a',\n",
              " 'n',\n",
              " '!']"
            ]
          },
          "metadata": {},
          "execution_count": 4
        }
      ]
    },
    {
      "cell_type": "code",
      "source": [
        "phrase[:-1]"
      ],
      "metadata": {
        "colab": {
          "base_uri": "https://localhost:8080/"
        },
        "id": "kXl2yzJoBE6D",
        "outputId": "5ea39306-91f8-4559-dd7b-59c6dc2e7890"
      },
      "execution_count": 5,
      "outputs": [
        {
          "output_type": "execute_result",
          "data": {
            "text/plain": [
              "['L',\n",
              " 'o',\n",
              " 'n',\n",
              " 'g',\n",
              " 'L',\n",
              " 'i',\n",
              " 'v',\n",
              " 'e',\n",
              " 'P',\n",
              " 'a',\n",
              " 'k',\n",
              " 'i',\n",
              " 's',\n",
              " 't',\n",
              " 'a',\n",
              " 'n']"
            ]
          },
          "metadata": {},
          "execution_count": 5
        }
      ]
    },
    {
      "cell_type": "code",
      "source": [
        "phrase[-1]"
      ],
      "metadata": {
        "colab": {
          "base_uri": "https://localhost:8080/",
          "height": 36
        },
        "id": "jZWHhlf8BSGH",
        "outputId": "274d1a24-fc82-4f1b-85ba-a8f5674a843a"
      },
      "execution_count": 6,
      "outputs": [
        {
          "output_type": "execute_result",
          "data": {
            "text/plain": [
              "'!'"
            ],
            "application/vnd.google.colaboratory.intrinsic+json": {
              "type": "string"
            }
          },
          "metadata": {},
          "execution_count": 6
        }
      ]
    },
    {
      "cell_type": "code",
      "source": [
        "phrase[-2]"
      ],
      "metadata": {
        "colab": {
          "base_uri": "https://localhost:8080/",
          "height": 36
        },
        "id": "ZQEi8-BxBksN",
        "outputId": "bcb3e9d8-3f22-488c-c6e1-fcf2b1e4f4b7"
      },
      "execution_count": 7,
      "outputs": [
        {
          "output_type": "execute_result",
          "data": {
            "text/plain": [
              "'n'"
            ],
            "application/vnd.google.colaboratory.intrinsic+json": {
              "type": "string"
            }
          },
          "metadata": {},
          "execution_count": 7
        }
      ]
    },
    {
      "cell_type": "code",
      "source": [
        "phrase[:]"
      ],
      "metadata": {
        "colab": {
          "base_uri": "https://localhost:8080/"
        },
        "id": "BYld2J_MBrac",
        "outputId": "6cbc7ac9-ba85-46d3-b390-7fbe0ec954cf"
      },
      "execution_count": 8,
      "outputs": [
        {
          "output_type": "execute_result",
          "data": {
            "text/plain": [
              "['L',\n",
              " 'o',\n",
              " 'n',\n",
              " 'g',\n",
              " 'L',\n",
              " 'i',\n",
              " 'v',\n",
              " 'e',\n",
              " 'P',\n",
              " 'a',\n",
              " 'k',\n",
              " 'i',\n",
              " 's',\n",
              " 't',\n",
              " 'a',\n",
              " 'n',\n",
              " '!']"
            ]
          },
          "metadata": {},
          "execution_count": 8
        }
      ]
    },
    {
      "cell_type": "markdown",
      "source": [
        "### Mutable\n",
        "- list\n",
        "\n",
        "### Immutable\n",
        "- str\n",
        "- int"
      ],
      "metadata": {
        "id": "yyCL9Q7LLtsv"
      }
    },
    {
      "cell_type": "code",
      "source": [
        "name = 'Rehan' # 0x1\n",
        "print(name)\n",
        "name = 'Usman' # 0x2\n",
        "\n",
        "name = 'address of string'\n",
        "\n",
        "# List of teachers name\n",
        "teacher_names = [] # 0x1\n",
        "teacher_names = [\"Rehan\"]\n",
        "teacher_names = [\"Rehan\", \"Usman\"]\n"
      ],
      "metadata": {
        "id": "okGrF8P4B6nx"
      },
      "execution_count": null,
      "outputs": []
    },
    {
      "cell_type": "code",
      "source": [
        "name1 = \"Sir Zia\" # 0x7\n",
        "\n",
        "any_list = [\"Sir Zia\"] #[0x7]"
      ],
      "metadata": {
        "id": "aTgZmeSYPJyT"
      },
      "execution_count": null,
      "outputs": []
    },
    {
      "cell_type": "code",
      "source": [
        "# length of list\n",
        "even_numbers = [2, 4, 6, 8]\n",
        "len(even_numbers)"
      ],
      "metadata": {
        "colab": {
          "base_uri": "https://localhost:8080/"
        },
        "id": "VCSWu7T9RVom",
        "outputId": "485b152d-bb30-4316-a33c-060dd763e78a"
      },
      "execution_count": 9,
      "outputs": [
        {
          "output_type": "execute_result",
          "data": {
            "text/plain": [
              "4"
            ]
          },
          "metadata": {},
          "execution_count": 9
        }
      ]
    },
    {
      "cell_type": "code",
      "source": [
        "message = \"Hello my name is Rehan\"\n",
        "\n",
        "print(message[-1])\n",
        "print(message[6:12])"
      ],
      "metadata": {
        "colab": {
          "base_uri": "https://localhost:8080/"
        },
        "id": "ELN8whyuRpKi",
        "outputId": "51b37092-b524-404a-a7ef-b0247bd3fa8d"
      },
      "execution_count": 15,
      "outputs": [
        {
          "output_type": "stream",
          "name": "stdout",
          "text": [
            "n\n",
            "my nam\n"
          ]
        }
      ]
    },
    {
      "cell_type": "markdown",
      "source": [
        "## Assignment Operators"
      ],
      "metadata": {
        "id": "Qx0r8EUBpctn"
      }
    },
    {
      "cell_type": "markdown",
      "source": [
        "=, +=, -=, *=, /="
      ],
      "metadata": {
        "id": "7zERTCzCSsM7"
      }
    },
    {
      "cell_type": "code",
      "source": [
        "first_number = 5\n",
        "\n",
        "first_number = first_number + 7\n",
        "\n",
        "print(first_number)"
      ],
      "metadata": {
        "colab": {
          "base_uri": "https://localhost:8080/"
        },
        "id": "J9er3bf0Sccx",
        "outputId": "7726c131-b72c-47ad-a253-334cc57f0072"
      },
      "execution_count": 16,
      "outputs": [
        {
          "output_type": "stream",
          "name": "stdout",
          "text": [
            "12\n"
          ]
        }
      ]
    },
    {
      "cell_type": "code",
      "source": [
        "first_number = 5\n",
        "first_number +=7\n",
        "# 5 + 7 =\n",
        "\n",
        "print(first_number)"
      ],
      "metadata": {
        "colab": {
          "base_uri": "https://localhost:8080/"
        },
        "id": "_O9ZGo_mUH3E",
        "outputId": "20dfb9a0-ab83-4c6b-c69f-cd78b5d9314a"
      },
      "execution_count": 17,
      "outputs": [
        {
          "output_type": "stream",
          "name": "stdout",
          "text": [
            "12\n"
          ]
        }
      ]
    },
    {
      "cell_type": "code",
      "source": [
        "second_number = 8\n",
        "second_number -= 2\n",
        "print(second_number)"
      ],
      "metadata": {
        "colab": {
          "base_uri": "https://localhost:8080/"
        },
        "id": "gqMCvTSKUemv",
        "outputId": "5b858127-2fc0-465e-f37c-8fec4f2ea0ae"
      },
      "execution_count": 18,
      "outputs": [
        {
          "output_type": "stream",
          "name": "stdout",
          "text": [
            "6\n"
          ]
        }
      ]
    },
    {
      "cell_type": "code",
      "source": [
        "second_number = 8\n",
        "second_number *= 3\n",
        "print(second_number)"
      ],
      "metadata": {
        "colab": {
          "base_uri": "https://localhost:8080/"
        },
        "id": "c5yEQqQ0Ul_T",
        "outputId": "674f4588-95ec-4d72-defb-736a149aee74"
      },
      "execution_count": 19,
      "outputs": [
        {
          "output_type": "stream",
          "name": "stdout",
          "text": [
            "24\n"
          ]
        }
      ]
    },
    {
      "cell_type": "code",
      "source": [
        "# a = \"Rehan\"\n",
        "student_name = \"Rehan\"\n",
        "# @$% 1 2 3 4\n",
        "# 1student_name = \"Rehan\"\n",
        "# &student_name = \"Rehan\"\n",
        "_student_name = \"Rehan\"\n",
        "student_name = \"Rehan\"\n",
        "STUDENT_NAME = \"Rehan\"\n"
      ],
      "metadata": {
        "id": "-l7fmNgiU5K1"
      },
      "execution_count": null,
      "outputs": []
    }
  ]
}